{
 "cells": [
  {
   "cell_type": "markdown",
   "metadata": {},
   "source": [
    "<img src='http://imgur.com/1ZcRyrc.png' style='float: left; margin: 20px; height: 55px'>\n",
    "\n",
    "# Capstone Project: IPPT'\n",
    "\n",
    "## Part 2 - Exploratory Data Analysis (EDA)\n",
    "\n",
    "---\n",
    "## Contents\n",
    "---\n",
    "\n",
    "### [Part 1 - Data Gathering and Cleaning](part1.ipynb)\n",
    "1. [Background on West Nile Virus](#background)\n",
    "\n",
    "### [Part 2 - Exploratory Data Analysis (EDA)](part2.ipynb)\n",
    "1. Imports\n",
    "\n",
    "### [Part 3 - Modelling & Conclusion](part3.ipynb)\n",
    "1. Pre-processing\n"
   ]
  },
  {
   "cell_type": "code",
   "execution_count": null,
   "metadata": {},
   "outputs": [],
   "source": []
  },
  {
   "cell_type": "markdown",
   "metadata": {},
   "source": [
    "---\n",
    "[Back to top](#Contents) | [Part 1](part1.ipynb) | [Part 2](part2.ipynb) | [Part 3](part3.ipynb)"
   ]
  },
  {
   "cell_type": "markdown",
   "metadata": {},
   "source": []
  }
 ],
 "metadata": {
  "kernelspec": {
   "display_name": "Python 3",
   "language": "python",
   "name": "python3"
  },
  "language_info": {
   "codemirror_mode": {
    "name": "ipython",
    "version": 3
   },
   "file_extension": ".py",
   "mimetype": "text/x-python",
   "name": "python",
   "nbconvert_exporter": "python",
   "pygments_lexer": "ipython3",
   "version": "3.9.12"
  }
 },
 "nbformat": 4,
 "nbformat_minor": 2
}
