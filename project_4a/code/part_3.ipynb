{
 "cells": [
  {
   "cell_type": "markdown",
   "metadata": {},
   "source": [
    "<img src='http://imgur.com/1ZcRyrc.png' style='float: left; margin: 20px; height: 55px'>\n",
    "\n",
    "# Project 4a: West Nile Virus\n",
    "\n",
    "## Part 3 - Modelling\n",
    "\n",
    "---\n",
    "## Contents\n",
    "---\n",
    "\n",
    "### [Part 1 - Data Cleaning](part_1.ipynb)\n",
    "1. Background on West Nile Virus\n",
    "2. Imports\n",
    "3. Trap Data\n",
    "4. Weather Data\n",
    "5. Spray Data\n",
    "\n",
    "### [Part 2 - Exploratory Data Analysis (EDA)](part_2.ipynb)\n",
    "1. Imports\n",
    "2. Exploratory Data Analysis - Trends\n",
    "3. Trends in Mosquito Trapping\n",
    "4. Detection of WNV+ in Traps\n",
    "5. Detection of WNV+ in Mosquito Species\n",
    "6. Detection of WNV+ Hotspots\n",
    "7. Trends in Weather\n",
    "8. Impact of Spraying on Number of Mosquitos\n",
    "\n",
    "### [Part 3 - Modelling](part_3.ipynb)\n",
    "1. [Pre-processing](#1.-Pre-processing)\n",
    "2. [Modelling](#2.-Modelling)\n",
    "3. [Kaggle Submission](#3.-Kaggle-Submission)\n",
    "4. [Conclusion](#4.-Conclusion)"
   ]
  },
  {
   "cell_type": "markdown",
   "metadata": {},
   "source": [
    "---\n",
    "## 1. Pre-processing\n",
    "---"
   ]
  },
  {
   "cell_type": "markdown",
   "metadata": {},
   "source": [
    "### 1a. Import Libraries"
   ]
  },
  {
   "cell_type": "code",
   "execution_count": 1,
   "metadata": {},
   "outputs": [
    {
     "name": "stderr",
     "output_type": "stream",
     "text": [
      "/Users/m.farhanrais/opt/anaconda3/lib/python3.9/site-packages/scipy/__init__.py:132: UserWarning: A NumPy version >=1.21.6 and <1.28.0 is required for this version of SciPy (detected version 1.21.5)\n",
      "  warnings.warn(f\"A NumPy version >={np_minversion} and <{np_maxversion}\"\n"
     ]
    }
   ],
   "source": [
    "# Import basic libraries\n",
    "import pandas as pd\n",
    "import numpy as np\n",
    "\n",
    "# Import sklearn libraries\n",
    "from sklearn.model_selection import train_test_split, GridSearchCV\n",
    "from sklearn.preprocessing import StandardScaler\n",
    "from sklearn.metrics import accuracy_score, recall_score, precision_score, f1_score, roc_auc_score\n",
    "from sklearn.metrics import mean_squared_error\n",
    "from sklearn.metrics import classification_report, confusion_matrix, ConfusionMatrixDisplay, RocCurveDisplay\n",
    "\n",
    "# Import visualisation libraries\n",
    "import matplotlib.pyplot as plt\n",
    "import seaborn as sns\n",
    "\n",
    "# Import imblearn libraries\n",
    "from imblearn.over_sampling import SMOTE\n",
    "from imblearn.pipeline import Pipeline\n",
    "\n",
    "# Import modelling libraries\n",
    "import lazypredict\n",
    "from lazypredict.Supervised import LazyClassifier\n",
    "from xgboost import XGBClassifier\n",
    "import pickle\n"
   ]
  },
  {
   "cell_type": "markdown",
   "metadata": {},
   "source": [
    "### 1b. Import Data\n",
    "Import the cleaned data from previous notebooks."
   ]
  },
  {
   "cell_type": "code",
   "execution_count": 2,
   "metadata": {},
   "outputs": [],
   "source": [
    "# Import train_df.csv from previous notebook\n",
    "train_df = pd.read_csv('../data/train_clean.csv')\n",
    "\n",
    "# Import test.csv from previous notebook\n",
    "test_df = pd.read_csv('../data/test_clean.csv')\n",
    "\n",
    "# Import weather_df.csv from previous notebook\n",
    "weather_df = pd.read_csv('../data/weather_clean.csv')\n",
    "\n",
    "# Import weather_df.csv from previous notebook\n",
    "spray_df = pd.read_csv('../data/spray_clean.csv')"
   ]
  },
  {
   "cell_type": "code",
   "execution_count": 3,
   "metadata": {},
   "outputs": [
    {
     "name": "stdout",
     "output_type": "stream",
     "text": [
      "train_df\n"
     ]
    },
    {
     "data": {
      "text/html": [
       "<div>\n",
       "<style scoped>\n",
       "    .dataframe tbody tr th:only-of-type {\n",
       "        vertical-align: middle;\n",
       "    }\n",
       "\n",
       "    .dataframe tbody tr th {\n",
       "        vertical-align: top;\n",
       "    }\n",
       "\n",
       "    .dataframe thead th {\n",
       "        text-align: right;\n",
       "    }\n",
       "</style>\n",
       "<table border=\"1\" class=\"dataframe\">\n",
       "  <thead>\n",
       "    <tr style=\"text-align: right;\">\n",
       "      <th></th>\n",
       "      <th>date</th>\n",
       "      <th>address</th>\n",
       "      <th>trap</th>\n",
       "      <th>latitude</th>\n",
       "      <th>longitude</th>\n",
       "      <th>nummosquitos</th>\n",
       "      <th>wnvpresent</th>\n",
       "      <th>year</th>\n",
       "      <th>month</th>\n",
       "      <th>year_month</th>\n",
       "      <th>erraticus</th>\n",
       "      <th>pipiens</th>\n",
       "      <th>restuans</th>\n",
       "      <th>salinarius</th>\n",
       "      <th>tarsalis</th>\n",
       "      <th>territans</th>\n",
       "    </tr>\n",
       "  </thead>\n",
       "  <tbody>\n",
       "    <tr>\n",
       "      <th>0</th>\n",
       "      <td>2007-05-29</td>\n",
       "      <td>4100 North Oak Park Avenue, Chicago, IL 60634,...</td>\n",
       "      <td>T002</td>\n",
       "      <td>41.95</td>\n",
       "      <td>-87.80</td>\n",
       "      <td>1</td>\n",
       "      <td>0</td>\n",
       "      <td>2007</td>\n",
       "      <td>5</td>\n",
       "      <td>2007-05</td>\n",
       "      <td>0</td>\n",
       "      <td>1</td>\n",
       "      <td>1</td>\n",
       "      <td>0</td>\n",
       "      <td>0</td>\n",
       "      <td>0</td>\n",
       "    </tr>\n",
       "    <tr>\n",
       "      <th>1</th>\n",
       "      <td>2007-05-29</td>\n",
       "      <td>4100 North Oak Park Avenue, Chicago, IL 60634,...</td>\n",
       "      <td>T002</td>\n",
       "      <td>41.95</td>\n",
       "      <td>-87.80</td>\n",
       "      <td>1</td>\n",
       "      <td>0</td>\n",
       "      <td>2007</td>\n",
       "      <td>5</td>\n",
       "      <td>2007-05</td>\n",
       "      <td>0</td>\n",
       "      <td>0</td>\n",
       "      <td>1</td>\n",
       "      <td>0</td>\n",
       "      <td>0</td>\n",
       "      <td>0</td>\n",
       "    </tr>\n",
       "    <tr>\n",
       "      <th>2</th>\n",
       "      <td>2007-05-29</td>\n",
       "      <td>6200 North Mandell Avenue, Chicago, IL 60646, USA</td>\n",
       "      <td>T007</td>\n",
       "      <td>41.99</td>\n",
       "      <td>-87.77</td>\n",
       "      <td>1</td>\n",
       "      <td>0</td>\n",
       "      <td>2007</td>\n",
       "      <td>5</td>\n",
       "      <td>2007-05</td>\n",
       "      <td>0</td>\n",
       "      <td>0</td>\n",
       "      <td>1</td>\n",
       "      <td>0</td>\n",
       "      <td>0</td>\n",
       "      <td>0</td>\n",
       "    </tr>\n",
       "    <tr>\n",
       "      <th>3</th>\n",
       "      <td>2007-05-29</td>\n",
       "      <td>7900 West Foster Avenue, Chicago, IL 60656, USA</td>\n",
       "      <td>T015</td>\n",
       "      <td>41.97</td>\n",
       "      <td>-87.82</td>\n",
       "      <td>1</td>\n",
       "      <td>0</td>\n",
       "      <td>2007</td>\n",
       "      <td>5</td>\n",
       "      <td>2007-05</td>\n",
       "      <td>0</td>\n",
       "      <td>1</td>\n",
       "      <td>1</td>\n",
       "      <td>0</td>\n",
       "      <td>0</td>\n",
       "      <td>0</td>\n",
       "    </tr>\n",
       "    <tr>\n",
       "      <th>4</th>\n",
       "      <td>2007-05-29</td>\n",
       "      <td>7900 West Foster Avenue, Chicago, IL 60656, USA</td>\n",
       "      <td>T015</td>\n",
       "      <td>41.97</td>\n",
       "      <td>-87.82</td>\n",
       "      <td>4</td>\n",
       "      <td>0</td>\n",
       "      <td>2007</td>\n",
       "      <td>5</td>\n",
       "      <td>2007-05</td>\n",
       "      <td>0</td>\n",
       "      <td>0</td>\n",
       "      <td>1</td>\n",
       "      <td>0</td>\n",
       "      <td>0</td>\n",
       "      <td>0</td>\n",
       "    </tr>\n",
       "  </tbody>\n",
       "</table>\n",
       "</div>"
      ],
      "text/plain": [
       "         date                                            address  trap  \\\n",
       "0  2007-05-29  4100 North Oak Park Avenue, Chicago, IL 60634,...  T002   \n",
       "1  2007-05-29  4100 North Oak Park Avenue, Chicago, IL 60634,...  T002   \n",
       "2  2007-05-29  6200 North Mandell Avenue, Chicago, IL 60646, USA  T007   \n",
       "3  2007-05-29    7900 West Foster Avenue, Chicago, IL 60656, USA  T015   \n",
       "4  2007-05-29    7900 West Foster Avenue, Chicago, IL 60656, USA  T015   \n",
       "\n",
       "   latitude  longitude  nummosquitos  wnvpresent  year  month year_month  \\\n",
       "0     41.95     -87.80             1           0  2007      5    2007-05   \n",
       "1     41.95     -87.80             1           0  2007      5    2007-05   \n",
       "2     41.99     -87.77             1           0  2007      5    2007-05   \n",
       "3     41.97     -87.82             1           0  2007      5    2007-05   \n",
       "4     41.97     -87.82             4           0  2007      5    2007-05   \n",
       "\n",
       "   erraticus  pipiens  restuans  salinarius  tarsalis  territans  \n",
       "0          0        1         1           0         0          0  \n",
       "1          0        0         1           0         0          0  \n",
       "2          0        0         1           0         0          0  \n",
       "3          0        1         1           0         0          0  \n",
       "4          0        0         1           0         0          0  "
      ]
     },
     "metadata": {},
     "output_type": "display_data"
    },
    {
     "name": "stdout",
     "output_type": "stream",
     "text": [
      "test_df\n"
     ]
    },
    {
     "data": {
      "text/html": [
       "<div>\n",
       "<style scoped>\n",
       "    .dataframe tbody tr th:only-of-type {\n",
       "        vertical-align: middle;\n",
       "    }\n",
       "\n",
       "    .dataframe tbody tr th {\n",
       "        vertical-align: top;\n",
       "    }\n",
       "\n",
       "    .dataframe thead th {\n",
       "        text-align: right;\n",
       "    }\n",
       "</style>\n",
       "<table border=\"1\" class=\"dataframe\">\n",
       "  <thead>\n",
       "    <tr style=\"text-align: right;\">\n",
       "      <th></th>\n",
       "      <th>id</th>\n",
       "      <th>date</th>\n",
       "      <th>trap</th>\n",
       "      <th>latitude</th>\n",
       "      <th>longitude</th>\n",
       "      <th>erraticus</th>\n",
       "      <th>pipiens</th>\n",
       "      <th>restuans</th>\n",
       "      <th>salinarius</th>\n",
       "      <th>tarsalis</th>\n",
       "      <th>territans</th>\n",
       "    </tr>\n",
       "  </thead>\n",
       "  <tbody>\n",
       "    <tr>\n",
       "      <th>0</th>\n",
       "      <td>1</td>\n",
       "      <td>2008-06-11</td>\n",
       "      <td>T002</td>\n",
       "      <td>41.95</td>\n",
       "      <td>-87.80</td>\n",
       "      <td>0</td>\n",
       "      <td>1</td>\n",
       "      <td>1</td>\n",
       "      <td>0</td>\n",
       "      <td>0</td>\n",
       "      <td>0</td>\n",
       "    </tr>\n",
       "    <tr>\n",
       "      <th>1</th>\n",
       "      <td>2</td>\n",
       "      <td>2008-06-11</td>\n",
       "      <td>T002</td>\n",
       "      <td>41.95</td>\n",
       "      <td>-87.80</td>\n",
       "      <td>0</td>\n",
       "      <td>0</td>\n",
       "      <td>1</td>\n",
       "      <td>0</td>\n",
       "      <td>0</td>\n",
       "      <td>0</td>\n",
       "    </tr>\n",
       "    <tr>\n",
       "      <th>2</th>\n",
       "      <td>3</td>\n",
       "      <td>2008-06-11</td>\n",
       "      <td>T002</td>\n",
       "      <td>41.95</td>\n",
       "      <td>-87.80</td>\n",
       "      <td>0</td>\n",
       "      <td>1</td>\n",
       "      <td>0</td>\n",
       "      <td>0</td>\n",
       "      <td>0</td>\n",
       "      <td>0</td>\n",
       "    </tr>\n",
       "    <tr>\n",
       "      <th>3</th>\n",
       "      <td>4</td>\n",
       "      <td>2008-06-11</td>\n",
       "      <td>T002</td>\n",
       "      <td>41.95</td>\n",
       "      <td>-87.80</td>\n",
       "      <td>0</td>\n",
       "      <td>0</td>\n",
       "      <td>0</td>\n",
       "      <td>1</td>\n",
       "      <td>0</td>\n",
       "      <td>0</td>\n",
       "    </tr>\n",
       "    <tr>\n",
       "      <th>4</th>\n",
       "      <td>5</td>\n",
       "      <td>2008-06-11</td>\n",
       "      <td>T002</td>\n",
       "      <td>41.95</td>\n",
       "      <td>-87.80</td>\n",
       "      <td>0</td>\n",
       "      <td>0</td>\n",
       "      <td>0</td>\n",
       "      <td>0</td>\n",
       "      <td>0</td>\n",
       "      <td>1</td>\n",
       "    </tr>\n",
       "  </tbody>\n",
       "</table>\n",
       "</div>"
      ],
      "text/plain": [
       "   id        date  trap  latitude  longitude  erraticus  pipiens  restuans  \\\n",
       "0   1  2008-06-11  T002     41.95     -87.80          0        1         1   \n",
       "1   2  2008-06-11  T002     41.95     -87.80          0        0         1   \n",
       "2   3  2008-06-11  T002     41.95     -87.80          0        1         0   \n",
       "3   4  2008-06-11  T002     41.95     -87.80          0        0         0   \n",
       "4   5  2008-06-11  T002     41.95     -87.80          0        0         0   \n",
       "\n",
       "   salinarius  tarsalis  territans  \n",
       "0           0         0          0  \n",
       "1           0         0          0  \n",
       "2           0         0          0  \n",
       "3           1         0          0  \n",
       "4           0         0          1  "
      ]
     },
     "metadata": {},
     "output_type": "display_data"
    },
    {
     "name": "stdout",
     "output_type": "stream",
     "text": [
      "weather_df\n"
     ]
    },
    {
     "data": {
      "text/html": [
       "<div>\n",
       "<style scoped>\n",
       "    .dataframe tbody tr th:only-of-type {\n",
       "        vertical-align: middle;\n",
       "    }\n",
       "\n",
       "    .dataframe tbody tr th {\n",
       "        vertical-align: top;\n",
       "    }\n",
       "\n",
       "    .dataframe thead th {\n",
       "        text-align: right;\n",
       "    }\n",
       "</style>\n",
       "<table border=\"1\" class=\"dataframe\">\n",
       "  <thead>\n",
       "    <tr style=\"text-align: right;\">\n",
       "      <th></th>\n",
       "      <th>date</th>\n",
       "      <th>tmax</th>\n",
       "      <th>tmin</th>\n",
       "      <th>tavg</th>\n",
       "      <th>depart</th>\n",
       "      <th>dewpoint</th>\n",
       "      <th>wetbulb</th>\n",
       "      <th>heat</th>\n",
       "      <th>cool</th>\n",
       "      <th>sunrise</th>\n",
       "      <th>...</th>\n",
       "      <th>snowfall</th>\n",
       "      <th>preciptotal</th>\n",
       "      <th>stnpressure</th>\n",
       "      <th>sealevel</th>\n",
       "      <th>resultspeed</th>\n",
       "      <th>resultdir</th>\n",
       "      <th>avgspeed</th>\n",
       "      <th>year</th>\n",
       "      <th>month</th>\n",
       "      <th>year_month</th>\n",
       "    </tr>\n",
       "  </thead>\n",
       "  <tbody>\n",
       "    <tr>\n",
       "      <th>0</th>\n",
       "      <td>2007-05-01</td>\n",
       "      <td>83</td>\n",
       "      <td>50</td>\n",
       "      <td>67.00</td>\n",
       "      <td>14.00</td>\n",
       "      <td>51</td>\n",
       "      <td>56.00</td>\n",
       "      <td>0.00</td>\n",
       "      <td>2.00</td>\n",
       "      <td>448</td>\n",
       "      <td>...</td>\n",
       "      <td>0.00</td>\n",
       "      <td>0.00</td>\n",
       "      <td>29.10</td>\n",
       "      <td>29.82</td>\n",
       "      <td>1.70</td>\n",
       "      <td>27</td>\n",
       "      <td>9.20</td>\n",
       "      <td>2007</td>\n",
       "      <td>5</td>\n",
       "      <td>2007-05</td>\n",
       "    </tr>\n",
       "    <tr>\n",
       "      <th>1</th>\n",
       "      <td>2007-05-02</td>\n",
       "      <td>59</td>\n",
       "      <td>42</td>\n",
       "      <td>51.00</td>\n",
       "      <td>-3.00</td>\n",
       "      <td>42</td>\n",
       "      <td>47.00</td>\n",
       "      <td>14.00</td>\n",
       "      <td>0.00</td>\n",
       "      <td>447</td>\n",
       "      <td>...</td>\n",
       "      <td>0.00</td>\n",
       "      <td>0.00</td>\n",
       "      <td>29.38</td>\n",
       "      <td>30.09</td>\n",
       "      <td>13.00</td>\n",
       "      <td>4</td>\n",
       "      <td>13.40</td>\n",
       "      <td>2007</td>\n",
       "      <td>5</td>\n",
       "      <td>2007-05</td>\n",
       "    </tr>\n",
       "    <tr>\n",
       "      <th>2</th>\n",
       "      <td>2007-05-03</td>\n",
       "      <td>66</td>\n",
       "      <td>46</td>\n",
       "      <td>56.00</td>\n",
       "      <td>2.00</td>\n",
       "      <td>40</td>\n",
       "      <td>48.00</td>\n",
       "      <td>9.00</td>\n",
       "      <td>0.00</td>\n",
       "      <td>446</td>\n",
       "      <td>...</td>\n",
       "      <td>0.00</td>\n",
       "      <td>0.00</td>\n",
       "      <td>29.39</td>\n",
       "      <td>30.12</td>\n",
       "      <td>11.70</td>\n",
       "      <td>7</td>\n",
       "      <td>11.90</td>\n",
       "      <td>2007</td>\n",
       "      <td>5</td>\n",
       "      <td>2007-05</td>\n",
       "    </tr>\n",
       "    <tr>\n",
       "      <th>3</th>\n",
       "      <td>2007-05-04</td>\n",
       "      <td>66</td>\n",
       "      <td>49</td>\n",
       "      <td>58.00</td>\n",
       "      <td>4.00</td>\n",
       "      <td>41</td>\n",
       "      <td>50.00</td>\n",
       "      <td>7.00</td>\n",
       "      <td>0.00</td>\n",
       "      <td>444</td>\n",
       "      <td>...</td>\n",
       "      <td>0.00</td>\n",
       "      <td>0.01</td>\n",
       "      <td>29.31</td>\n",
       "      <td>30.05</td>\n",
       "      <td>10.40</td>\n",
       "      <td>8</td>\n",
       "      <td>10.80</td>\n",
       "      <td>2007</td>\n",
       "      <td>5</td>\n",
       "      <td>2007-05</td>\n",
       "    </tr>\n",
       "    <tr>\n",
       "      <th>4</th>\n",
       "      <td>2007-05-05</td>\n",
       "      <td>66</td>\n",
       "      <td>53</td>\n",
       "      <td>60.00</td>\n",
       "      <td>5.00</td>\n",
       "      <td>38</td>\n",
       "      <td>49.00</td>\n",
       "      <td>5.00</td>\n",
       "      <td>0.00</td>\n",
       "      <td>443</td>\n",
       "      <td>...</td>\n",
       "      <td>0.00</td>\n",
       "      <td>0.01</td>\n",
       "      <td>29.40</td>\n",
       "      <td>30.10</td>\n",
       "      <td>11.70</td>\n",
       "      <td>7</td>\n",
       "      <td>12.00</td>\n",
       "      <td>2007</td>\n",
       "      <td>5</td>\n",
       "      <td>2007-05</td>\n",
       "    </tr>\n",
       "  </tbody>\n",
       "</table>\n",
       "<p>5 rows × 23 columns</p>\n",
       "</div>"
      ],
      "text/plain": [
       "         date  tmax  tmin  tavg  depart  dewpoint  wetbulb  heat  cool  \\\n",
       "0  2007-05-01    83    50 67.00   14.00        51    56.00  0.00  2.00   \n",
       "1  2007-05-02    59    42 51.00   -3.00        42    47.00 14.00  0.00   \n",
       "2  2007-05-03    66    46 56.00    2.00        40    48.00  9.00  0.00   \n",
       "3  2007-05-04    66    49 58.00    4.00        41    50.00  7.00  0.00   \n",
       "4  2007-05-05    66    53 60.00    5.00        38    49.00  5.00  0.00   \n",
       "\n",
       "   sunrise  ...  snowfall preciptotal  stnpressure  sealevel  resultspeed  \\\n",
       "0      448  ...      0.00        0.00        29.10     29.82         1.70   \n",
       "1      447  ...      0.00        0.00        29.38     30.09        13.00   \n",
       "2      446  ...      0.00        0.00        29.39     30.12        11.70   \n",
       "3      444  ...      0.00        0.01        29.31     30.05        10.40   \n",
       "4      443  ...      0.00        0.01        29.40     30.10        11.70   \n",
       "\n",
       "   resultdir  avgspeed  year  month  year_month  \n",
       "0         27      9.20  2007      5     2007-05  \n",
       "1          4     13.40  2007      5     2007-05  \n",
       "2          7     11.90  2007      5     2007-05  \n",
       "3          8     10.80  2007      5     2007-05  \n",
       "4          7     12.00  2007      5     2007-05  \n",
       "\n",
       "[5 rows x 23 columns]"
      ]
     },
     "metadata": {},
     "output_type": "display_data"
    },
    {
     "name": "stdout",
     "output_type": "stream",
     "text": [
      "spray_df\n"
     ]
    },
    {
     "data": {
      "text/html": [
       "<div>\n",
       "<style scoped>\n",
       "    .dataframe tbody tr th:only-of-type {\n",
       "        vertical-align: middle;\n",
       "    }\n",
       "\n",
       "    .dataframe tbody tr th {\n",
       "        vertical-align: top;\n",
       "    }\n",
       "\n",
       "    .dataframe thead th {\n",
       "        text-align: right;\n",
       "    }\n",
       "</style>\n",
       "<table border=\"1\" class=\"dataframe\">\n",
       "  <thead>\n",
       "    <tr style=\"text-align: right;\">\n",
       "      <th></th>\n",
       "      <th>date</th>\n",
       "      <th>latitude</th>\n",
       "      <th>longitude</th>\n",
       "      <th>year</th>\n",
       "      <th>month</th>\n",
       "      <th>year_month</th>\n",
       "    </tr>\n",
       "  </thead>\n",
       "  <tbody>\n",
       "    <tr>\n",
       "      <th>0</th>\n",
       "      <td>2011-08-29</td>\n",
       "      <td>42.39</td>\n",
       "      <td>-88.09</td>\n",
       "      <td>2011</td>\n",
       "      <td>8</td>\n",
       "      <td>2011-08</td>\n",
       "    </tr>\n",
       "    <tr>\n",
       "      <th>1</th>\n",
       "      <td>2011-08-29</td>\n",
       "      <td>42.39</td>\n",
       "      <td>-88.09</td>\n",
       "      <td>2011</td>\n",
       "      <td>8</td>\n",
       "      <td>2011-08</td>\n",
       "    </tr>\n",
       "    <tr>\n",
       "      <th>2</th>\n",
       "      <td>2011-08-29</td>\n",
       "      <td>42.39</td>\n",
       "      <td>-88.09</td>\n",
       "      <td>2011</td>\n",
       "      <td>8</td>\n",
       "      <td>2011-08</td>\n",
       "    </tr>\n",
       "    <tr>\n",
       "      <th>3</th>\n",
       "      <td>2011-08-29</td>\n",
       "      <td>42.39</td>\n",
       "      <td>-88.09</td>\n",
       "      <td>2011</td>\n",
       "      <td>8</td>\n",
       "      <td>2011-08</td>\n",
       "    </tr>\n",
       "    <tr>\n",
       "      <th>4</th>\n",
       "      <td>2011-08-29</td>\n",
       "      <td>42.39</td>\n",
       "      <td>-88.09</td>\n",
       "      <td>2011</td>\n",
       "      <td>8</td>\n",
       "      <td>2011-08</td>\n",
       "    </tr>\n",
       "  </tbody>\n",
       "</table>\n",
       "</div>"
      ],
      "text/plain": [
       "         date  latitude  longitude  year  month year_month\n",
       "0  2011-08-29     42.39     -88.09  2011      8    2011-08\n",
       "1  2011-08-29     42.39     -88.09  2011      8    2011-08\n",
       "2  2011-08-29     42.39     -88.09  2011      8    2011-08\n",
       "3  2011-08-29     42.39     -88.09  2011      8    2011-08\n",
       "4  2011-08-29     42.39     -88.09  2011      8    2011-08"
      ]
     },
     "metadata": {},
     "output_type": "display_data"
    }
   ],
   "source": [
    "# Display dataframes\n",
    "print(\"train_df\")\n",
    "display(train_df.head())\n",
    "\n",
    "print(\"test_df\")\n",
    "display(test_df.head())\n",
    "\n",
    "print(\"weather_df\")\n",
    "display(weather_df.head())\n",
    "\n",
    "print(\"spray_df\")\n",
    "display(spray_df.head())"
   ]
  },
  {
   "cell_type": "markdown",
   "metadata": {},
   "source": [
    "### 1c. Drop Columns"
   ]
  },
  {
   "cell_type": "code",
   "execution_count": 4,
   "metadata": {},
   "outputs": [],
   "source": [
    "# First drop\n",
    "drop_list1 = ['erraticus', 'tarsalis', 'salinarius']\n",
    "train_df.drop(columns=drop_list1, inplace=True)\n",
    "test_df.drop(columns=drop_list1, inplace=True)"
   ]
  },
  {
   "cell_type": "code",
   "execution_count": 5,
   "metadata": {},
   "outputs": [],
   "source": [
    "# Second drop\n",
    "drop_list2 = ['snowfall', 'depth']\n",
    "weather_df.drop(columns=drop_list2, inplace=True)"
   ]
  },
  {
   "cell_type": "markdown",
   "metadata": {},
   "source": [
    "### 1c. Pre-processing data before modeling"
   ]
  },
  {
   "cell_type": "code",
   "execution_count": 6,
   "metadata": {},
   "outputs": [
    {
     "data": {
      "text/plain": [
       "(9693, 33)"
      ]
     },
     "execution_count": 6,
     "metadata": {},
     "output_type": "execute_result"
    }
   ],
   "source": [
    "# Merge train_df and weather_df dataframes by 'date' column, without duplicated columns\n",
    "df = pd.merge(train_df, weather_df, on='date').drop_duplicates()\n",
    "df.shape"
   ]
  },
  {
   "cell_type": "code",
   "execution_count": 7,
   "metadata": {},
   "outputs": [
    {
     "data": {
      "text/plain": [
       "(9693, 27)"
      ]
     },
     "execution_count": 7,
     "metadata": {},
     "output_type": "execute_result"
    }
   ],
   "source": [
    "# Drop all columns with data type 'object'\n",
    "df = df.drop(columns=df.select_dtypes('object').columns)\n",
    "df.shape"
   ]
  },
  {
   "cell_type": "code",
   "execution_count": 48,
   "metadata": {},
   "outputs": [
    {
     "data": {
      "text/html": [
       "<div>\n",
       "<style scoped>\n",
       "    .dataframe tbody tr th:only-of-type {\n",
       "        vertical-align: middle;\n",
       "    }\n",
       "\n",
       "    .dataframe tbody tr th {\n",
       "        vertical-align: top;\n",
       "    }\n",
       "\n",
       "    .dataframe thead th {\n",
       "        text-align: right;\n",
       "    }\n",
       "</style>\n",
       "<table border=\"1\" class=\"dataframe\">\n",
       "  <thead>\n",
       "    <tr style=\"text-align: right;\">\n",
       "      <th></th>\n",
       "      <th>latitude</th>\n",
       "      <th>longitude</th>\n",
       "      <th>nummosquitos</th>\n",
       "      <th>wnvpresent</th>\n",
       "      <th>year_x</th>\n",
       "      <th>month_x</th>\n",
       "      <th>pipiens</th>\n",
       "      <th>restuans</th>\n",
       "      <th>territans</th>\n",
       "      <th>tmax</th>\n",
       "      <th>...</th>\n",
       "      <th>sunrise</th>\n",
       "      <th>sunset</th>\n",
       "      <th>preciptotal</th>\n",
       "      <th>stnpressure</th>\n",
       "      <th>sealevel</th>\n",
       "      <th>resultspeed</th>\n",
       "      <th>resultdir</th>\n",
       "      <th>avgspeed</th>\n",
       "      <th>year_y</th>\n",
       "      <th>month_y</th>\n",
       "    </tr>\n",
       "  </thead>\n",
       "  <tbody>\n",
       "    <tr>\n",
       "      <th>0</th>\n",
       "      <td>41.955</td>\n",
       "      <td>-87.801</td>\n",
       "      <td>1</td>\n",
       "      <td>0</td>\n",
       "      <td>2007</td>\n",
       "      <td>5</td>\n",
       "      <td>1</td>\n",
       "      <td>1</td>\n",
       "      <td>0</td>\n",
       "      <td>88</td>\n",
       "      <td>...</td>\n",
       "      <td>421</td>\n",
       "      <td>1917</td>\n",
       "      <td>0.000</td>\n",
       "      <td>29.390</td>\n",
       "      <td>30.110</td>\n",
       "      <td>5.800</td>\n",
       "      <td>18</td>\n",
       "      <td>6.500</td>\n",
       "      <td>2007</td>\n",
       "      <td>5</td>\n",
       "    </tr>\n",
       "    <tr>\n",
       "      <th>1</th>\n",
       "      <td>41.955</td>\n",
       "      <td>-87.801</td>\n",
       "      <td>1</td>\n",
       "      <td>0</td>\n",
       "      <td>2007</td>\n",
       "      <td>5</td>\n",
       "      <td>0</td>\n",
       "      <td>1</td>\n",
       "      <td>0</td>\n",
       "      <td>88</td>\n",
       "      <td>...</td>\n",
       "      <td>421</td>\n",
       "      <td>1917</td>\n",
       "      <td>0.000</td>\n",
       "      <td>29.390</td>\n",
       "      <td>30.110</td>\n",
       "      <td>5.800</td>\n",
       "      <td>18</td>\n",
       "      <td>6.500</td>\n",
       "      <td>2007</td>\n",
       "      <td>5</td>\n",
       "    </tr>\n",
       "    <tr>\n",
       "      <th>2</th>\n",
       "      <td>41.995</td>\n",
       "      <td>-87.769</td>\n",
       "      <td>1</td>\n",
       "      <td>0</td>\n",
       "      <td>2007</td>\n",
       "      <td>5</td>\n",
       "      <td>0</td>\n",
       "      <td>1</td>\n",
       "      <td>0</td>\n",
       "      <td>88</td>\n",
       "      <td>...</td>\n",
       "      <td>421</td>\n",
       "      <td>1917</td>\n",
       "      <td>0.000</td>\n",
       "      <td>29.390</td>\n",
       "      <td>30.110</td>\n",
       "      <td>5.800</td>\n",
       "      <td>18</td>\n",
       "      <td>6.500</td>\n",
       "      <td>2007</td>\n",
       "      <td>5</td>\n",
       "    </tr>\n",
       "    <tr>\n",
       "      <th>3</th>\n",
       "      <td>41.974</td>\n",
       "      <td>-87.825</td>\n",
       "      <td>1</td>\n",
       "      <td>0</td>\n",
       "      <td>2007</td>\n",
       "      <td>5</td>\n",
       "      <td>1</td>\n",
       "      <td>1</td>\n",
       "      <td>0</td>\n",
       "      <td>88</td>\n",
       "      <td>...</td>\n",
       "      <td>421</td>\n",
       "      <td>1917</td>\n",
       "      <td>0.000</td>\n",
       "      <td>29.390</td>\n",
       "      <td>30.110</td>\n",
       "      <td>5.800</td>\n",
       "      <td>18</td>\n",
       "      <td>6.500</td>\n",
       "      <td>2007</td>\n",
       "      <td>5</td>\n",
       "    </tr>\n",
       "    <tr>\n",
       "      <th>4</th>\n",
       "      <td>41.974</td>\n",
       "      <td>-87.825</td>\n",
       "      <td>4</td>\n",
       "      <td>0</td>\n",
       "      <td>2007</td>\n",
       "      <td>5</td>\n",
       "      <td>0</td>\n",
       "      <td>1</td>\n",
       "      <td>0</td>\n",
       "      <td>88</td>\n",
       "      <td>...</td>\n",
       "      <td>421</td>\n",
       "      <td>1917</td>\n",
       "      <td>0.000</td>\n",
       "      <td>29.390</td>\n",
       "      <td>30.110</td>\n",
       "      <td>5.800</td>\n",
       "      <td>18</td>\n",
       "      <td>6.500</td>\n",
       "      <td>2007</td>\n",
       "      <td>5</td>\n",
       "    </tr>\n",
       "  </tbody>\n",
       "</table>\n",
       "<p>5 rows × 27 columns</p>\n",
       "</div>"
      ],
      "text/plain": [
       "   latitude  longitude  nummosquitos  wnvpresent  year_x  month_x  pipiens  \\\n",
       "0    41.955    -87.801             1           0    2007        5        1   \n",
       "1    41.955    -87.801             1           0    2007        5        0   \n",
       "2    41.995    -87.769             1           0    2007        5        0   \n",
       "3    41.974    -87.825             1           0    2007        5        1   \n",
       "4    41.974    -87.825             4           0    2007        5        0   \n",
       "\n",
       "   restuans  territans  tmax  ...  sunrise  sunset  preciptotal  stnpressure  \\\n",
       "0         1          0    88  ...      421    1917        0.000       29.390   \n",
       "1         1          0    88  ...      421    1917        0.000       29.390   \n",
       "2         1          0    88  ...      421    1917        0.000       29.390   \n",
       "3         1          0    88  ...      421    1917        0.000       29.390   \n",
       "4         1          0    88  ...      421    1917        0.000       29.390   \n",
       "\n",
       "   sealevel  resultspeed  resultdir  avgspeed  year_y  month_y  \n",
       "0    30.110        5.800         18     6.500    2007        5  \n",
       "1    30.110        5.800         18     6.500    2007        5  \n",
       "2    30.110        5.800         18     6.500    2007        5  \n",
       "3    30.110        5.800         18     6.500    2007        5  \n",
       "4    30.110        5.800         18     6.500    2007        5  \n",
       "\n",
       "[5 rows x 27 columns]"
      ]
     },
     "execution_count": 48,
     "metadata": {},
     "output_type": "execute_result"
    }
   ],
   "source": [
    "df.head()"
   ]
  },
  {
   "cell_type": "markdown",
   "metadata": {},
   "source": [
    "### 1d. Train-Test-Split\n",
    "All subsequent modelling steps will use the same train-test-split data."
   ]
  },
  {
   "cell_type": "code",
   "execution_count": 8,
   "metadata": {},
   "outputs": [],
   "source": [
    "# Assemble X and y features\n",
    "X = df.drop(columns=['wnvpresent'])\n",
    "y = df['wnvpresent']\n",
    "\n",
    "X_train, X_test, y_train, y_test = train_test_split(X, y, random_state=42)"
   ]
  },
  {
   "cell_type": "markdown",
   "metadata": {},
   "source": [
    "### 1e. Handling Imbalanced Classes"
   ]
  },
  {
   "cell_type": "code",
   "execution_count": 9,
   "metadata": {},
   "outputs": [
    {
     "data": {
      "text/plain": [
       "0    9190\n",
       "1     503\n",
       "Name: wnvpresent, dtype: int64"
      ]
     },
     "execution_count": 9,
     "metadata": {},
     "output_type": "execute_result"
    }
   ],
   "source": [
    "# Check the proportion of 2 classes in y\n",
    "y_counts = y.value_counts()\n",
    "y_counts"
   ]
  },
  {
   "cell_type": "code",
   "execution_count": 10,
   "metadata": {},
   "outputs": [
    {
     "data": {
      "image/png": "[encoded data removed]",
      "text/plain": [
       "<Figure size 504x144 with 1 Axes>"
      ]
     },
     "metadata": {
      "needs_background": "light"
     },
     "output_type": "display_data"
    }
   ],
   "source": [
    "# Plot a horizontal bar graph to visualize the count\n",
    "ax = y_counts.plot(kind='barh', figsize=(7,2))\n",
    "plt.title('WNV Present vs Absent', fontsize=14)\n",
    "plt.xlabel('Count', fontsize=10)\n",
    "ax.set_yticklabels(y_counts.index, rotation=10)\n",
    "\n",
    "for i, v in enumerate(y_counts):\n",
    "    ax.text(v + 10, i, str(v), color='black', fontsize=10, va='center')"
   ]
  },
  {
   "cell_type": "markdown",
   "metadata": {},
   "source": [
    "SMOTE (synthetic minority oversampling technique) is one of the most commonly used oversampling methods to solve the imbalance problem.\n",
    "It aims to balance class distribution by randomly increasing minority class examples by replicating them."
   ]
  },
  {
   "cell_type": "code",
   "execution_count": 11,
   "metadata": {},
   "outputs": [
    {
     "name": "stdout",
     "output_type": "stream",
     "text": [
      "(13788, 26)\n",
      "(13788,)\n"
     ]
    }
   ],
   "source": [
    "# Apply SMOTE to train data\n",
    "smote = SMOTE(random_state=42)\n",
    "X_train_resampled, y_train_resampled = smote.fit_resample(X_train, y_train)\n",
    "\n",
    "print(X_train_resampled.shape)\n",
    "print(y_train_resampled.shape)"
   ]
  },
  {
   "cell_type": "code",
   "execution_count": 12,
   "metadata": {},
   "outputs": [
    {
     "data": {
      "image/png": "[encoded data removed]",
      "text/plain": [
       "<Figure size 504x144 with 1 Axes>"
      ]
     },
     "metadata": {
      "needs_background": "light"
     },
     "output_type": "display_data"
    }
   ],
   "source": [
    "# Class size after applying SMOTE\n",
    "y_train_resampled_counts = y_train_resampled.value_counts()\n",
    "ax = y_train_resampled_counts.plot(kind='barh', figsize=(7,2))\n",
    "plt.title('WNV Present vs Absent', fontsize=14)\n",
    "plt.xlabel('Count', fontsize=10)\n",
    "ax.set_yticklabels(y_counts.index, rotation=10)\n",
    "\n",
    "for i, v in enumerate(y_train_resampled_counts):\n",
    "    ax.text(v + 10, i, str(v), color='black', fontsize=10, va='center')"
   ]
  },
  {
   "cell_type": "markdown",
   "metadata": {},
   "source": [
    "---\n",
    "## 2. Modelling\n",
    "---"
   ]
  },
  {
   "cell_type": "markdown",
   "metadata": {},
   "source": [
    "### 2a. Lazy Predict\n",
    "\n",
    "To quickly decide on a model, the Lazy Predict library is used to build 25 basic models.\n",
    "From that library, the LazyClassifier is used as the model is aimed to classify the presence of WNV.\n"
   ]
  },
  {
   "cell_type": "code",
   "execution_count": 13,
   "metadata": {},
   "outputs": [
    {
     "name": "stderr",
     "output_type": "stream",
     "text": [
      "100%|██████████| 29/29 [00:06<00:00,  4.76it/s]\n"
     ]
    },
    {
     "data": {
      "text/html": [
       "<div>\n",
       "<style scoped>\n",
       "    .dataframe tbody tr th:only-of-type {\n",
       "        vertical-align: middle;\n",
       "    }\n",
       "\n",
       "    .dataframe tbody tr th {\n",
       "        vertical-align: top;\n",
       "    }\n",
       "\n",
       "    .dataframe thead th {\n",
       "        text-align: right;\n",
       "    }\n",
       "</style>\n",
       "<table border=\"1\" class=\"dataframe\">\n",
       "  <thead>\n",
       "    <tr style=\"text-align: right;\">\n",
       "      <th></th>\n",
       "      <th>Accuracy</th>\n",
       "      <th>Balanced Accuracy</th>\n",
       "      <th>ROC AUC</th>\n",
       "      <th>F1 Score</th>\n",
       "      <th>Time Taken</th>\n",
       "    </tr>\n",
       "    <tr>\n",
       "      <th>Model</th>\n",
       "      <th></th>\n",
       "      <th></th>\n",
       "      <th></th>\n",
       "      <th></th>\n",
       "      <th></th>\n",
       "    </tr>\n",
       "  </thead>\n",
       "  <tbody>\n",
       "    <tr>\n",
       "      <th>SVC</th>\n",
       "      <td>0.947</td>\n",
       "      <td>0.500</td>\n",
       "      <td>0.500</td>\n",
       "      <td>0.922</td>\n",
       "      <td>0.618</td>\n",
       "    </tr>\n",
       "    <tr>\n",
       "      <th>SGDClassifier</th>\n",
       "      <td>0.947</td>\n",
       "      <td>0.500</td>\n",
       "      <td>0.500</td>\n",
       "      <td>0.922</td>\n",
       "      <td>0.030</td>\n",
       "    </tr>\n",
       "    <tr>\n",
       "      <th>RidgeClassifierCV</th>\n",
       "      <td>0.947</td>\n",
       "      <td>0.500</td>\n",
       "      <td>0.500</td>\n",
       "      <td>0.922</td>\n",
       "      <td>0.030</td>\n",
       "    </tr>\n",
       "    <tr>\n",
       "      <th>DummyClassifier</th>\n",
       "      <td>0.947</td>\n",
       "      <td>0.500</td>\n",
       "      <td>0.500</td>\n",
       "      <td>0.922</td>\n",
       "      <td>0.008</td>\n",
       "    </tr>\n",
       "    <tr>\n",
       "      <th>LinearSVC</th>\n",
       "      <td>0.947</td>\n",
       "      <td>0.500</td>\n",
       "      <td>0.500</td>\n",
       "      <td>0.922</td>\n",
       "      <td>0.214</td>\n",
       "    </tr>\n",
       "    <tr>\n",
       "      <th>CalibratedClassifierCV</th>\n",
       "      <td>0.947</td>\n",
       "      <td>0.522</td>\n",
       "      <td>0.522</td>\n",
       "      <td>0.926</td>\n",
       "      <td>0.862</td>\n",
       "    </tr>\n",
       "    <tr>\n",
       "      <th>LogisticRegression</th>\n",
       "      <td>0.947</td>\n",
       "      <td>0.526</td>\n",
       "      <td>0.526</td>\n",
       "      <td>0.926</td>\n",
       "      <td>0.062</td>\n",
       "    </tr>\n",
       "    <tr>\n",
       "      <th>AdaBoostClassifier</th>\n",
       "      <td>0.945</td>\n",
       "      <td>0.539</td>\n",
       "      <td>0.539</td>\n",
       "      <td>0.928</td>\n",
       "      <td>0.246</td>\n",
       "    </tr>\n",
       "    <tr>\n",
       "      <th>PassiveAggressiveClassifier</th>\n",
       "      <td>0.943</td>\n",
       "      <td>0.505</td>\n",
       "      <td>0.505</td>\n",
       "      <td>0.921</td>\n",
       "      <td>0.015</td>\n",
       "    </tr>\n",
       "    <tr>\n",
       "      <th>LinearDiscriminantAnalysis</th>\n",
       "      <td>0.943</td>\n",
       "      <td>0.583</td>\n",
       "      <td>0.583</td>\n",
       "      <td>0.932</td>\n",
       "      <td>0.041</td>\n",
       "    </tr>\n",
       "    <tr>\n",
       "      <th>KNeighborsClassifier</th>\n",
       "      <td>0.942</td>\n",
       "      <td>0.567</td>\n",
       "      <td>0.567</td>\n",
       "      <td>0.930</td>\n",
       "      <td>0.323</td>\n",
       "    </tr>\n",
       "    <tr>\n",
       "      <th>LGBMClassifier</th>\n",
       "      <td>0.941</td>\n",
       "      <td>0.545</td>\n",
       "      <td>0.545</td>\n",
       "      <td>0.927</td>\n",
       "      <td>0.251</td>\n",
       "    </tr>\n",
       "    <tr>\n",
       "      <th>XGBClassifier</th>\n",
       "      <td>0.941</td>\n",
       "      <td>0.585</td>\n",
       "      <td>0.585</td>\n",
       "      <td>0.931</td>\n",
       "      <td>0.090</td>\n",
       "    </tr>\n",
       "    <tr>\n",
       "      <th>RandomForestClassifier</th>\n",
       "      <td>0.938</td>\n",
       "      <td>0.551</td>\n",
       "      <td>0.551</td>\n",
       "      <td>0.926</td>\n",
       "      <td>0.422</td>\n",
       "    </tr>\n",
       "    <tr>\n",
       "      <th>BaggingClassifier</th>\n",
       "      <td>0.938</td>\n",
       "      <td>0.572</td>\n",
       "      <td>0.572</td>\n",
       "      <td>0.928</td>\n",
       "      <td>0.157</td>\n",
       "    </tr>\n",
       "    <tr>\n",
       "      <th>ExtraTreesClassifier</th>\n",
       "      <td>0.935</td>\n",
       "      <td>0.564</td>\n",
       "      <td>0.564</td>\n",
       "      <td>0.926</td>\n",
       "      <td>0.358</td>\n",
       "    </tr>\n",
       "    <tr>\n",
       "      <th>LabelSpreading</th>\n",
       "      <td>0.922</td>\n",
       "      <td>0.594</td>\n",
       "      <td>0.594</td>\n",
       "      <td>0.921</td>\n",
       "      <td>1.279</td>\n",
       "    </tr>\n",
       "    <tr>\n",
       "      <th>LabelPropagation</th>\n",
       "      <td>0.922</td>\n",
       "      <td>0.598</td>\n",
       "      <td>0.598</td>\n",
       "      <td>0.921</td>\n",
       "      <td>0.954</td>\n",
       "    </tr>\n",
       "    <tr>\n",
       "      <th>ExtraTreeClassifier</th>\n",
       "      <td>0.919</td>\n",
       "      <td>0.603</td>\n",
       "      <td>0.603</td>\n",
       "      <td>0.920</td>\n",
       "      <td>0.011</td>\n",
       "    </tr>\n",
       "    <tr>\n",
       "      <th>Perceptron</th>\n",
       "      <td>0.913</td>\n",
       "      <td>0.615</td>\n",
       "      <td>0.615</td>\n",
       "      <td>0.917</td>\n",
       "      <td>0.011</td>\n",
       "    </tr>\n",
       "    <tr>\n",
       "      <th>DecisionTreeClassifier</th>\n",
       "      <td>0.911</td>\n",
       "      <td>0.581</td>\n",
       "      <td>0.581</td>\n",
       "      <td>0.913</td>\n",
       "      <td>0.031</td>\n",
       "    </tr>\n",
       "    <tr>\n",
       "      <th>BernoulliNB</th>\n",
       "      <td>0.885</td>\n",
       "      <td>0.666</td>\n",
       "      <td>0.666</td>\n",
       "      <td>0.903</td>\n",
       "      <td>0.013</td>\n",
       "    </tr>\n",
       "    <tr>\n",
       "      <th>NearestCentroid</th>\n",
       "      <td>0.666</td>\n",
       "      <td>0.695</td>\n",
       "      <td>0.695</td>\n",
       "      <td>0.758</td>\n",
       "      <td>0.009</td>\n",
       "    </tr>\n",
       "    <tr>\n",
       "      <th>QuadraticDiscriminantAnalysis</th>\n",
       "      <td>0.465</td>\n",
       "      <td>0.592</td>\n",
       "      <td>0.592</td>\n",
       "      <td>0.589</td>\n",
       "      <td>0.017</td>\n",
       "    </tr>\n",
       "    <tr>\n",
       "      <th>GaussianNB</th>\n",
       "      <td>0.345</td>\n",
       "      <td>0.628</td>\n",
       "      <td>0.628</td>\n",
       "      <td>0.456</td>\n",
       "      <td>0.011</td>\n",
       "    </tr>\n",
       "  </tbody>\n",
       "</table>\n",
       "</div>"
      ],
      "text/plain": [
       "                               Accuracy  Balanced Accuracy  ROC AUC  F1 Score  \\\n",
       "Model                                                                           \n",
       "SVC                               0.947              0.500    0.500     0.922   \n",
       "SGDClassifier                     0.947              0.500    0.500     0.922   \n",
       "RidgeClassifierCV                 0.947              0.500    0.500     0.922   \n",
       "DummyClassifier                   0.947              0.500    0.500     0.922   \n",
       "LinearSVC                         0.947              0.500    0.500     0.922   \n",
       "CalibratedClassifierCV            0.947              0.522    0.522     0.926   \n",
       "LogisticRegression                0.947              0.526    0.526     0.926   \n",
       "AdaBoostClassifier                0.945              0.539    0.539     0.928   \n",
       "PassiveAggressiveClassifier       0.943              0.505    0.505     0.921   \n",
       "LinearDiscriminantAnalysis        0.943              0.583    0.583     0.932   \n",
       "KNeighborsClassifier              0.942              0.567    0.567     0.930   \n",
       "LGBMClassifier                    0.941              0.545    0.545     0.927   \n",
       "XGBClassifier                     0.941              0.585    0.585     0.931   \n",
       "RandomForestClassifier            0.938              0.551    0.551     0.926   \n",
       "BaggingClassifier                 0.938              0.572    0.572     0.928   \n",
       "ExtraTreesClassifier              0.935              0.564    0.564     0.926   \n",
       "LabelSpreading                    0.922              0.594    0.594     0.921   \n",
       "LabelPropagation                  0.922              0.598    0.598     0.921   \n",
       "ExtraTreeClassifier               0.919              0.603    0.603     0.920   \n",
       "Perceptron                        0.913              0.615    0.615     0.917   \n",
       "DecisionTreeClassifier            0.911              0.581    0.581     0.913   \n",
       "BernoulliNB                       0.885              0.666    0.666     0.903   \n",
       "NearestCentroid                   0.666              0.695    0.695     0.758   \n",
       "QuadraticDiscriminantAnalysis     0.465              0.592    0.592     0.589   \n",
       "GaussianNB                        0.345              0.628    0.628     0.456   \n",
       "\n",
       "                               Time Taken  \n",
       "Model                                      \n",
       "SVC                                 0.618  \n",
       "SGDClassifier                       0.030  \n",
       "RidgeClassifierCV                   0.030  \n",
       "DummyClassifier                     0.008  \n",
       "LinearSVC                           0.214  \n",
       "CalibratedClassifierCV              0.862  \n",
       "LogisticRegression                  0.062  \n",
       "AdaBoostClassifier                  0.246  \n",
       "PassiveAggressiveClassifier         0.015  \n",
       "LinearDiscriminantAnalysis          0.041  \n",
       "KNeighborsClassifier                0.323  \n",
       "LGBMClassifier                      0.251  \n",
       "XGBClassifier                       0.090  \n",
       "RandomForestClassifier              0.422  \n",
       "BaggingClassifier                   0.157  \n",
       "ExtraTreesClassifier                0.358  \n",
       "LabelSpreading                      1.279  \n",
       "LabelPropagation                    0.954  \n",
       "ExtraTreeClassifier                 0.011  \n",
       "Perceptron                          0.011  \n",
       "DecisionTreeClassifier              0.031  \n",
       "BernoulliNB                         0.013  \n",
       "NearestCentroid                     0.009  \n",
       "QuadraticDiscriminantAnalysis       0.017  \n",
       "GaussianNB                          0.011  "
      ]
     },
     "execution_count": 13,
     "metadata": {},
     "output_type": "execute_result"
    }
   ],
   "source": [
    "clf = LazyClassifier(verbose=0,ignore_warnings=True, custom_metric=None)\n",
    "models,predictions = clf.fit(X_train, X_test, y_train, y_test)\n",
    "\n",
    "# Display dataframe values to 3 decimal figures\n",
    "pd.options.display.float_format = '{:.3f}'.format\n",
    "models.sort_values(by='Accuracy', ascending=False)\n"
   ]
  },
  {
   "cell_type": "markdown",
   "metadata": {},
   "source": [
    "While `XSBoost Classifier` is the 2nd most accurate, the difference with the most accurate model (`LinearSVC`) is marginal (0.001) with run time almost 10 times faster. Hence it is the chosen model."
   ]
  },
  {
   "cell_type": "markdown",
   "metadata": {},
   "source": [
    "### 2b. XGBoost Classifier\n",
    "\n",
    "Through the use of pipelines, scaling will be done using `StandardScaler` and imbalanced classes will be handled by `SMOTE`."
   ]
  },
  {
   "cell_type": "code",
   "execution_count": 14,
   "metadata": {},
   "outputs": [],
   "source": [
    "pipe = Pipeline(steps=[\n",
    "    ('ss', StandardScaler()),\n",
    "    ('sampling', SMOTE()),\n",
    "    ('xgb', XGBClassifier())\n",
    "])"
   ]
  },
  {
   "cell_type": "code",
   "execution_count": 15,
   "metadata": {},
   "outputs": [
    {
     "data": {
      "text/plain": [
       "Pipeline(steps=[('ss', StandardScaler()), ('sampling', SMOTE()),\n",
       "                ('xgb',\n",
       "                 XGBClassifier(base_score=None, booster=None, callbacks=None,\n",
       "                               colsample_bylevel=None, colsample_bynode=None,\n",
       "                               colsample_bytree=None, device=None,\n",
       "                               early_stopping_rounds=None,\n",
       "                               enable_categorical=False, eval_metric=None,\n",
       "                               feature_types=None, gamma=None, grow_policy=None,\n",
       "                               importance_type=None,\n",
       "                               interaction_constraints=None, learning_rate=None,\n",
       "                               max_bin=None, max_cat_threshold=None,\n",
       "                               max_cat_to_onehot=None, max_delta_step=None,\n",
       "                               max_depth=None, max_leaves=None,\n",
       "                               min_child_weight=None, missing=nan,\n",
       "                               monotone_constraints=None, multi_strategy=None,\n",
       "                               n_estimators=None, n_jobs=None,\n",
       "                               num_parallel_tree=None, random_state=None, ...))])"
      ]
     },
     "execution_count": 15,
     "metadata": {},
     "output_type": "execute_result"
    }
   ],
   "source": [
    "pipe.fit(X_train,y_train)"
   ]
  },
  {
   "cell_type": "code",
   "execution_count": 16,
   "metadata": {},
   "outputs": [
    {
     "data": {
      "text/plain": [
       "{'memory': None,\n",
       " 'steps': [('ss', StandardScaler()),\n",
       "  ('sampling', SMOTE()),\n",
       "  ('xgb',\n",
       "   XGBClassifier(base_score=None, booster=None, callbacks=None,\n",
       "                 colsample_bylevel=None, colsample_bynode=None,\n",
       "                 colsample_bytree=None, device=None, early_stopping_rounds=None,\n",
       "                 enable_categorical=False, eval_metric=None, feature_types=None,\n",
       "                 gamma=None, grow_policy=None, importance_type=None,\n",
       "                 interaction_constraints=None, learning_rate=None, max_bin=None,\n",
       "                 max_cat_threshold=None, max_cat_to_onehot=None,\n",
       "                 max_delta_step=None, max_depth=None, max_leaves=None,\n",
       "                 min_child_weight=None, missing=nan, monotone_constraints=None,\n",
       "                 multi_strategy=None, n_estimators=None, n_jobs=None,\n",
       "                 num_parallel_tree=None, random_state=None, ...))],\n",
       " 'verbose': False,\n",
       " 'ss': StandardScaler(),\n",
       " 'sampling': SMOTE(),\n",
       " 'xgb': XGBClassifier(base_score=None, booster=None, callbacks=None,\n",
       "               colsample_bylevel=None, colsample_bynode=None,\n",
       "               colsample_bytree=None, device=None, early_stopping_rounds=None,\n",
       "               enable_categorical=False, eval_metric=None, feature_types=None,\n",
       "               gamma=None, grow_policy=None, importance_type=None,\n",
       "               interaction_constraints=None, learning_rate=None, max_bin=None,\n",
       "               max_cat_threshold=None, max_cat_to_onehot=None,\n",
       "               max_delta_step=None, max_depth=None, max_leaves=None,\n",
       "               min_child_weight=None, missing=nan, monotone_constraints=None,\n",
       "               multi_strategy=None, n_estimators=None, n_jobs=None,\n",
       "               num_parallel_tree=None, random_state=None, ...),\n",
       " 'ss__copy': True,\n",
       " 'ss__with_mean': True,\n",
       " 'ss__with_std': True,\n",
       " 'sampling__k_neighbors': 5,\n",
       " 'sampling__n_jobs': None,\n",
       " 'sampling__random_state': None,\n",
       " 'sampling__sampling_strategy': 'auto',\n",
       " 'xgb__objective': 'binary:logistic',\n",
       " 'xgb__base_score': None,\n",
       " 'xgb__booster': None,\n",
       " 'xgb__callbacks': None,\n",
       " 'xgb__colsample_bylevel': None,\n",
       " 'xgb__colsample_bynode': None,\n",
       " 'xgb__colsample_bytree': None,\n",
       " 'xgb__device': None,\n",
       " 'xgb__early_stopping_rounds': None,\n",
       " 'xgb__enable_categorical': False,\n",
       " 'xgb__eval_metric': None,\n",
       " 'xgb__feature_types': None,\n",
       " 'xgb__gamma': None,\n",
       " 'xgb__grow_policy': None,\n",
       " 'xgb__importance_type': None,\n",
       " 'xgb__interaction_constraints': None,\n",
       " 'xgb__learning_rate': None,\n",
       " 'xgb__max_bin': None,\n",
       " 'xgb__max_cat_threshold': None,\n",
       " 'xgb__max_cat_to_onehot': None,\n",
       " 'xgb__max_delta_step': None,\n",
       " 'xgb__max_depth': None,\n",
       " 'xgb__max_leaves': None,\n",
       " 'xgb__min_child_weight': None,\n",
       " 'xgb__missing': nan,\n",
       " 'xgb__monotone_constraints': None,\n",
       " 'xgb__multi_strategy': None,\n",
       " 'xgb__n_estimators': None,\n",
       " 'xgb__n_jobs': None,\n",
       " 'xgb__num_parallel_tree': None,\n",
       " 'xgb__random_state': None,\n",
       " 'xgb__reg_alpha': None,\n",
       " 'xgb__reg_lambda': None,\n",
       " 'xgb__sampling_method': None,\n",
       " 'xgb__scale_pos_weight': None,\n",
       " 'xgb__subsample': None,\n",
       " 'xgb__tree_method': None,\n",
       " 'xgb__validate_parameters': None,\n",
       " 'xgb__verbosity': None}"
      ]
     },
     "execution_count": 16,
     "metadata": {},
     "output_type": "execute_result"
    }
   ],
   "source": [
    "pipe.get_params()"
   ]
  },
  {
   "cell_type": "code",
   "execution_count": 17,
   "metadata": {},
   "outputs": [],
   "source": [
    "# To minimise run time, the original hyperparameter from GridSearch are included as comments.\n",
    "\n",
    "pipe_params = {\n",
    "    'xgb__n_estimators': [200], #[50, 100, 200]\n",
    "    'xgb__learning_rate': [0.5], #[0.01, 0.1, 0.5]\n",
    "    'xgb__max_depth': [5], #[3, 5, 7]\n",
    "    'xgb__subsample': [0.5, 0.8, 1.0], #[0.5, 0.8, 1.0]\n",
    "    'xgb__colsample_bytree': [0.5], #[0.5, 0.8, 1.0]\n",
    "    'xgb__random_state': [42]\n",
    "}"
   ]
  },
  {
   "cell_type": "code",
   "execution_count": 18,
   "metadata": {},
   "outputs": [],
   "source": [
    "pipe_gridsearch = GridSearchCV(pipe, pipe_params, cv=5, scoring='accuracy', n_jobs=-1, verbose=1)"
   ]
  },
  {
   "cell_type": "code",
   "execution_count": 19,
   "metadata": {},
   "outputs": [
    {
     "name": "stdout",
     "output_type": "stream",
     "text": [
      "Fitting 5 folds for each of 3 candidates, totalling 15 fits\n"
     ]
    },
    {
     "name": "stderr",
     "output_type": "stream",
     "text": [
      "/Users/m.farhanrais/opt/anaconda3/lib/python3.9/site-packages/scipy/__init__.py:132: UserWarning: A NumPy version >=1.21.6 and <1.28.0 is required for this version of SciPy (detected version 1.21.5)\n",
      "  warnings.warn(f\"A NumPy version >={np_minversion} and <{np_maxversion}\"\n",
      "/Users/m.farhanrais/opt/anaconda3/lib/python3.9/site-packages/scipy/__init__.py:132: UserWarning: A NumPy version >=1.21.6 and <1.28.0 is required for this version of SciPy (detected version 1.21.5)\n",
      "  warnings.warn(f\"A NumPy version >={np_minversion} and <{np_maxversion}\"\n",
      "/Users/m.farhanrais/opt/anaconda3/lib/python3.9/site-packages/scipy/__init__.py:132: UserWarning: A NumPy version >=1.21.6 and <1.28.0 is required for this version of SciPy (detected version 1.21.5)\n",
      "  warnings.warn(f\"A NumPy version >={np_minversion} and <{np_maxversion}\"\n",
      "/Users/m.farhanrais/opt/anaconda3/lib/python3.9/site-packages/scipy/__init__.py:132: UserWarning: A NumPy version >=1.21.6 and <1.28.0 is required for this version of SciPy (detected version 1.21.5)\n",
      "  warnings.warn(f\"A NumPy version >={np_minversion} and <{np_maxversion}\"\n",
      "/Users/m.farhanrais/opt/anaconda3/lib/python3.9/site-packages/scipy/__init__.py:132: UserWarning: A NumPy version >=1.21.6 and <1.28.0 is required for this version of SciPy (detected version 1.21.5)\n",
      "  warnings.warn(f\"A NumPy version >={np_minversion} and <{np_maxversion}\"\n",
      "/Users/m.farhanrais/opt/anaconda3/lib/python3.9/site-packages/scipy/__init__.py:132: UserWarning: A NumPy version >=1.21.6 and <1.28.0 is required for this version of SciPy (detected version 1.21.5)\n",
      "  warnings.warn(f\"A NumPy version >={np_minversion} and <{np_maxversion}\"\n",
      "/Users/m.farhanrais/opt/anaconda3/lib/python3.9/site-packages/scipy/__init__.py:132: UserWarning: A NumPy version >=1.21.6 and <1.28.0 is required for this version of SciPy (detected version 1.21.5)\n",
      "  warnings.warn(f\"A NumPy version >={np_minversion} and <{np_maxversion}\"\n",
      "/Users/m.farhanrais/opt/anaconda3/lib/python3.9/site-packages/scipy/__init__.py:132: UserWarning: A NumPy version >=1.21.6 and <1.28.0 is required for this version of SciPy (detected version 1.21.5)\n",
      "  warnings.warn(f\"A NumPy version >={np_minversion} and <{np_maxversion}\"\n"
     ]
    },
    {
     "data": {
      "text/plain": [
       "GridSearchCV(cv=5,\n",
       "             estimator=Pipeline(steps=[('ss', StandardScaler()),\n",
       "                                       ('sampling', SMOTE()),\n",
       "                                       ('xgb',\n",
       "                                        XGBClassifier(base_score=None,\n",
       "                                                      booster=None,\n",
       "                                                      callbacks=None,\n",
       "                                                      colsample_bylevel=None,\n",
       "                                                      colsample_bynode=None,\n",
       "                                                      colsample_bytree=None,\n",
       "                                                      device=None,\n",
       "                                                      early_stopping_rounds=None,\n",
       "                                                      enable_categorical=False,\n",
       "                                                      eval_metric=None,\n",
       "                                                      feature_types=None,\n",
       "                                                      gamma=None,\n",
       "                                                      grow_policy=None,\n",
       "                                                      i...\n",
       "                                                      min_child_weight=None,\n",
       "                                                      missing=nan,\n",
       "                                                      monotone_constraints=None,\n",
       "                                                      multi_strategy=None,\n",
       "                                                      n_estimators=None,\n",
       "                                                      n_jobs=None,\n",
       "                                                      num_parallel_tree=None,\n",
       "                                                      random_state=None, ...))]),\n",
       "             n_jobs=-1,\n",
       "             param_grid={'xgb__colsample_bytree': [0.5],\n",
       "                         'xgb__learning_rate': [0.5], 'xgb__max_depth': [5],\n",
       "                         'xgb__n_estimators': [200], 'xgb__random_state': [42],\n",
       "                         'xgb__subsample': [0.5, 0.8, 1.0]},\n",
       "             scoring='accuracy', verbose=1)"
      ]
     },
     "execution_count": 19,
     "metadata": {},
     "output_type": "execute_result"
    }
   ],
   "source": [
    "pipe_gridsearch.fit(X_train, y_train)"
   ]
  },
  {
   "cell_type": "code",
   "execution_count": 20,
   "metadata": {},
   "outputs": [
    {
     "data": {
      "text/plain": [
       "Pipeline(steps=[('ss', StandardScaler()), ('sampling', SMOTE()),\n",
       "                ('xgb',\n",
       "                 XGBClassifier(base_score=None, booster=None, callbacks=None,\n",
       "                               colsample_bylevel=None, colsample_bynode=None,\n",
       "                               colsample_bytree=0.5, device=None,\n",
       "                               early_stopping_rounds=None,\n",
       "                               enable_categorical=False, eval_metric=None,\n",
       "                               feature_types=None, gamma=None, grow_policy=None,\n",
       "                               importance_type=None,\n",
       "                               interaction_constraints=None, learning_rate=0.5,\n",
       "                               max_bin=None, max_cat_threshold=None,\n",
       "                               max_cat_to_onehot=None, max_delta_step=None,\n",
       "                               max_depth=5, max_leaves=None,\n",
       "                               min_child_weight=None, missing=nan,\n",
       "                               monotone_constraints=None, multi_strategy=None,\n",
       "                               n_estimators=200, n_jobs=None,\n",
       "                               num_parallel_tree=None, random_state=42, ...))])"
      ]
     },
     "execution_count": 20,
     "metadata": {},
     "output_type": "execute_result"
    }
   ],
   "source": [
    "# Print out best estimator.\n",
    "pipe_gridsearch.best_estimator_"
   ]
  },
  {
   "cell_type": "code",
   "execution_count": 21,
   "metadata": {},
   "outputs": [
    {
     "data": {
      "text/plain": [
       "0.9269497913059448"
      ]
     },
     "execution_count": 21,
     "metadata": {},
     "output_type": "execute_result"
    }
   ],
   "source": [
    "# Print out best score.\n",
    "# Mean cross-validated score of the best_estimator\n",
    "pipe_gridsearch.best_score_"
   ]
  },
  {
   "cell_type": "code",
   "execution_count": 22,
   "metadata": {},
   "outputs": [
    {
     "data": {
      "text/plain": [
       "0.9273927392739274"
      ]
     },
     "execution_count": 22,
     "metadata": {},
     "output_type": "execute_result"
    }
   ],
   "source": [
    "# Evaluate the best model on the test data (accuracy score)\n",
    "pipe_gridsearch.score(X_test, y_test)"
   ]
  },
  {
   "cell_type": "code",
   "execution_count": 23,
   "metadata": {},
   "outputs": [
    {
     "name": "stdout",
     "output_type": "stream",
     "text": [
      "ROC-AUC on train data set: 0.99818025336041\n",
      "ROC-AUC on test data set: 0.8607428680313589\n",
      "\n",
      "              precision    recall  f1-score   support\n",
      "\n",
      "           0       0.96      0.96      0.96      2296\n",
      "           1       0.31      0.30      0.30       128\n",
      "\n",
      "    accuracy                           0.93      2424\n",
      "   macro avg       0.63      0.63      0.63      2424\n",
      "weighted avg       0.93      0.93      0.93      2424\n",
      "\n"
     ]
    }
   ],
   "source": [
    "fitted_model = pipe_gridsearch\n",
    "\n",
    "# ROC-AUC\n",
    "pred_prob_train = fitted_model.predict_proba(X_train)\n",
    "auc_score_train = roc_auc_score(y_train, pred_prob_train[:,1])\n",
    "pred_prob_test = fitted_model.predict_proba(X_test)\n",
    "auc_score_test = roc_auc_score(y_test, pred_prob_test[:,1])\n",
    "print(f'ROC-AUC on train data set: {auc_score_train}')\n",
    "print(f'ROC-AUC on test data set: {auc_score_test}')\n",
    "print()\n",
    "\n",
    "# classification report\n",
    "print(classification_report(y_test, fitted_model.predict(X_test)))"
   ]
  },
  {
   "cell_type": "code",
   "execution_count": 24,
   "metadata": {},
   "outputs": [
    {
     "data": {
      "text/plain": [
       "[<matplotlib.lines.Line2D at 0x7fe0a19cf9a0>]"
      ]
     },
     "execution_count": 24,
     "metadata": {},
     "output_type": "execute_result"
    },
    {
     "data": {
      "image/png": "[encoded data removed]",
      "text/plain": [
       "<Figure size 432x288 with 1 Axes>"
      ]
     },
     "metadata": {
      "needs_background": "light"
     },
     "output_type": "display_data"
    }
   ],
   "source": [
    "# plot roc curve\n",
    "roc_display = RocCurveDisplay.from_estimator(fitted_model,X_test,y_test)\n",
    "plt.plot([0,1],[0,1],label='baseline',linestyle='--')"
   ]
  },
  {
   "cell_type": "code",
   "execution_count": 25,
   "metadata": {},
   "outputs": [
    {
     "data": {
      "text/plain": [
       "<Axes: >"
      ]
     },
     "execution_count": 25,
     "metadata": {},
     "output_type": "execute_result"
    },
    {
     "data": {
      "image/png": "[encoded data removed]",
      "text/plain": [
       "<Figure size 432x288 with 2 Axes>"
      ]
     },
     "metadata": {
      "needs_background": "light"
     },
     "output_type": "display_data"
    }
   ],
   "source": [
    "# Plot confusion matrix\n",
    "cm = confusion_matrix(y_test,fitted_model.predict(X_test))\n",
    "cm_label = []\n",
    "for index, value in enumerate(cm):\n",
    "    if index == 0:\n",
    "        cm_label.append(['TN = ' + str(value[0]), 'FP = ' + str(value[1])])\n",
    "    elif index == 1:\n",
    "        cm_label.append(['FN = ' + str(value[0]), 'TP = ' + str(value[1])])\n",
    "sns.heatmap(\n",
    "    cm,\n",
    "    annot=np.array(cm_label),\n",
    "    annot_kws={'fontsize': 12},\n",
    "    fmt='',\n",
    "    cmap='crest',\n",
    "    xticklabels=['WNV not Present', 'WNV Present'],\n",
    "    yticklabels=['WNV not Present', 'WNV Present']\n",
    ")"
   ]
  },
  {
   "cell_type": "code",
   "execution_count": 26,
   "metadata": {},
   "outputs": [],
   "source": [
    "coef = fitted_model.best_estimator_['xgb'].feature_importances_\n",
    "feature = fitted_model.best_estimator_['ss'].get_feature_names_out()"
   ]
  },
  {
   "cell_type": "code",
   "execution_count": 27,
   "metadata": {},
   "outputs": [
    {
     "data": {
      "text/plain": [
       "<Axes: ylabel='Features'>"
      ]
     },
     "execution_count": 27,
     "metadata": {},
     "output_type": "execute_result"
    },
    {
     "data": {
      "image/png": "[encoded data removed]",
      "text/plain": [
       "<Figure size 720x720 with 1 Axes>"
      ]
     },
     "metadata": {
      "needs_background": "light"
     },
     "output_type": "display_data"
    }
   ],
   "source": [
    "# Create a DataFrame for feature importance\n",
    "feature_importance = pd.DataFrame({'Features': feature, 'Importance': coef})\n",
    "\n",
    "# Select the top 10 and bottom 10 features\n",
    "top_features = feature_importance.nlargest(50, 'Importance')\n",
    "bottom_features = feature_importance.nsmallest(0, 'Importance')\n",
    "\n",
    "# Change axis label font size\n",
    "plt.rcParams['xtick.labelsize'] = 12\n",
    "# Change y axis label font size\n",
    "plt.rcParams['ytick.labelsize'] = 12\n",
    "\n",
    "# Concatenate the top and bottom features\n",
    "selected_features = pd.concat([top_features, bottom_features])\n",
    "\n",
    "# Sort the features by importance\n",
    "selected_features = selected_features.sort_values('Importance', ascending=True)\n",
    "\n",
    "# Plot only features that have importance greater than 0\n",
    "selected_features[selected_features['Importance'] > 0].plot(kind='barh', x='Features', y='Importance', figsize=(10,10))\n"
   ]
  },
  {
   "cell_type": "code",
   "execution_count": 28,
   "metadata": {},
   "outputs": [
    {
     "data": {
      "text/plain": [
       "[]"
      ]
     },
     "execution_count": 28,
     "metadata": {},
     "output_type": "execute_result"
    }
   ],
   "source": [
    "# List features that have importance of 0 as a list\n",
    "zero_importance_features = selected_features[selected_features['Importance'] == 0]['Features'].to_list()\n",
    "zero_importance_features"
   ]
  },
  {
   "cell_type": "markdown",
   "metadata": {},
   "source": [
    "The above generated the list of features below in a previous iteration and have been removed:\n",
    "\n",
    "['erraticus', 'tarsalis', 'salinarius', 'snowfall', 'depth']"
   ]
  },
  {
   "cell_type": "markdown",
   "metadata": {},
   "source": [
    "### 2c. Pickle Trained Model for Streamlit"
   ]
  },
  {
   "cell_type": "code",
   "execution_count": 29,
   "metadata": {},
   "outputs": [],
   "source": [
    "# Save the trained model to the pickle file\n",
    "with open('../data/xgb_model.pkl', 'wb') as model_file:\n",
    "    pickle.dump(fitted_model, model_file)"
   ]
  },
  {
   "cell_type": "markdown",
   "metadata": {},
   "source": [
    "---\n",
    "## 3. Kaggle Submission\n",
    "---"
   ]
  },
  {
   "cell_type": "code",
   "execution_count": 30,
   "metadata": {},
   "outputs": [],
   "source": [
    "# Load the trained model from pickle file\n",
    "with open('../data/xgb_model.pkl', 'rb') as model_file:\n",
    "    loaded_model = pickle.load(model_file)"
   ]
  },
  {
   "cell_type": "code",
   "execution_count": 36,
   "metadata": {},
   "outputs": [
    {
     "data": {
      "text/plain": [
       "(116293, 28)"
      ]
     },
     "execution_count": 36,
     "metadata": {},
     "output_type": "execute_result"
    }
   ],
   "source": [
    "# Merge test_df and weather_df dataframes by 'date' column\n",
    "pred_df = pd.merge(test_df, weather_df, on='date')\n",
    "\n",
    "pred_df.shape"
   ]
  },
  {
   "cell_type": "code",
   "execution_count": 37,
   "metadata": {},
   "outputs": [
    {
     "data": {
      "text/plain": [
       "(116293, 24)"
      ]
     },
     "execution_count": 37,
     "metadata": {},
     "output_type": "execute_result"
    }
   ],
   "source": [
    "# Drop all columns with data type 'object'\n",
    "pred_df = pred_df.drop(columns=pred_df.select_dtypes('object').columns)\n",
    "pred_df.shape"
   ]
  },
  {
   "cell_type": "code",
   "execution_count": 39,
   "metadata": {},
   "outputs": [
    {
     "data": {
      "text/plain": [
       "(116293, 26)"
      ]
     },
     "execution_count": 39,
     "metadata": {},
     "output_type": "execute_result"
    }
   ],
   "source": [
    "# Add missing columns to pred_df and set their values to 0\n",
    "missing_cols = set(df.columns) - set(pred_df.columns)\n",
    "# Keep only first 11 elements in missing_cols\n",
    "missing_cols = list(set(df.columns) - set(pred_df.columns))[:2]\n",
    "\n",
    "for col in missing_cols:\n",
    "    pred_df[col] = 0\n",
    "\n",
    "pred_df.shape"
   ]
  },
  {
   "cell_type": "code",
   "execution_count": 40,
   "metadata": {},
   "outputs": [],
   "source": [
    "# Using the loaded model to predict the probability of WNV presence\n",
    "pred_df['wnvpresent'] = loaded_model.predict_proba(pred_df)[:,1]"
   ]
  },
  {
   "cell_type": "code",
   "execution_count": 41,
   "metadata": {},
   "outputs": [
    {
     "data": {
      "text/plain": [
       "0.000    3204\n",
       "0.000    3201\n",
       "0.000    3197\n",
       "0.000    3196\n",
       "0.000    2169\n",
       "         ... \n",
       "0.000     151\n",
       "0.000     151\n",
       "0.000      36\n",
       "0.000       5\n",
       "0.000       1\n",
       "Name: wnvpresent, Length: 143, dtype: int64"
      ]
     },
     "execution_count": 41,
     "metadata": {},
     "output_type": "execute_result"
    }
   ],
   "source": [
    "# Count the values in 'wnvpresent' column\n",
    "pred_df['wnvpresent'].value_counts()"
   ]
  },
  {
   "cell_type": "code",
   "execution_count": 44,
   "metadata": {},
   "outputs": [
    {
     "data": {
      "text/html": [
       "<div>\n",
       "<style scoped>\n",
       "    .dataframe tbody tr th:only-of-type {\n",
       "        vertical-align: middle;\n",
       "    }\n",
       "\n",
       "    .dataframe tbody tr th {\n",
       "        vertical-align: top;\n",
       "    }\n",
       "\n",
       "    .dataframe thead th {\n",
       "        text-align: right;\n",
       "    }\n",
       "</style>\n",
       "<table border=\"1\" class=\"dataframe\">\n",
       "  <thead>\n",
       "    <tr style=\"text-align: right;\">\n",
       "      <th></th>\n",
       "      <th>id</th>\n",
       "      <th>latitude</th>\n",
       "      <th>longitude</th>\n",
       "      <th>pipiens</th>\n",
       "      <th>restuans</th>\n",
       "      <th>territans</th>\n",
       "      <th>tmax</th>\n",
       "      <th>tmin</th>\n",
       "      <th>tavg</th>\n",
       "      <th>depart</th>\n",
       "      <th>...</th>\n",
       "      <th>stnpressure</th>\n",
       "      <th>sealevel</th>\n",
       "      <th>resultspeed</th>\n",
       "      <th>resultdir</th>\n",
       "      <th>avgspeed</th>\n",
       "      <th>year</th>\n",
       "      <th>month</th>\n",
       "      <th>nummosquitos</th>\n",
       "      <th>year_x</th>\n",
       "      <th>wnvpresent</th>\n",
       "    </tr>\n",
       "  </thead>\n",
       "  <tbody>\n",
       "    <tr>\n",
       "      <th>0</th>\n",
       "      <td>1</td>\n",
       "      <td>41.955</td>\n",
       "      <td>-87.801</td>\n",
       "      <td>1</td>\n",
       "      <td>1</td>\n",
       "      <td>0</td>\n",
       "      <td>86</td>\n",
       "      <td>61</td>\n",
       "      <td>74.000</td>\n",
       "      <td>7.000</td>\n",
       "      <td>...</td>\n",
       "      <td>29.280</td>\n",
       "      <td>29.990</td>\n",
       "      <td>8.900</td>\n",
       "      <td>18</td>\n",
       "      <td>10.000</td>\n",
       "      <td>2008</td>\n",
       "      <td>6</td>\n",
       "      <td>0</td>\n",
       "      <td>0</td>\n",
       "      <td>0.000</td>\n",
       "    </tr>\n",
       "    <tr>\n",
       "      <th>1</th>\n",
       "      <td>2</td>\n",
       "      <td>41.955</td>\n",
       "      <td>-87.801</td>\n",
       "      <td>0</td>\n",
       "      <td>1</td>\n",
       "      <td>0</td>\n",
       "      <td>86</td>\n",
       "      <td>61</td>\n",
       "      <td>74.000</td>\n",
       "      <td>7.000</td>\n",
       "      <td>...</td>\n",
       "      <td>29.280</td>\n",
       "      <td>29.990</td>\n",
       "      <td>8.900</td>\n",
       "      <td>18</td>\n",
       "      <td>10.000</td>\n",
       "      <td>2008</td>\n",
       "      <td>6</td>\n",
       "      <td>0</td>\n",
       "      <td>0</td>\n",
       "      <td>0.000</td>\n",
       "    </tr>\n",
       "    <tr>\n",
       "      <th>2</th>\n",
       "      <td>3</td>\n",
       "      <td>41.955</td>\n",
       "      <td>-87.801</td>\n",
       "      <td>1</td>\n",
       "      <td>0</td>\n",
       "      <td>0</td>\n",
       "      <td>86</td>\n",
       "      <td>61</td>\n",
       "      <td>74.000</td>\n",
       "      <td>7.000</td>\n",
       "      <td>...</td>\n",
       "      <td>29.280</td>\n",
       "      <td>29.990</td>\n",
       "      <td>8.900</td>\n",
       "      <td>18</td>\n",
       "      <td>10.000</td>\n",
       "      <td>2008</td>\n",
       "      <td>6</td>\n",
       "      <td>0</td>\n",
       "      <td>0</td>\n",
       "      <td>0.000</td>\n",
       "    </tr>\n",
       "    <tr>\n",
       "      <th>3</th>\n",
       "      <td>4</td>\n",
       "      <td>41.955</td>\n",
       "      <td>-87.801</td>\n",
       "      <td>0</td>\n",
       "      <td>0</td>\n",
       "      <td>0</td>\n",
       "      <td>86</td>\n",
       "      <td>61</td>\n",
       "      <td>74.000</td>\n",
       "      <td>7.000</td>\n",
       "      <td>...</td>\n",
       "      <td>29.280</td>\n",
       "      <td>29.990</td>\n",
       "      <td>8.900</td>\n",
       "      <td>18</td>\n",
       "      <td>10.000</td>\n",
       "      <td>2008</td>\n",
       "      <td>6</td>\n",
       "      <td>0</td>\n",
       "      <td>0</td>\n",
       "      <td>0.000</td>\n",
       "    </tr>\n",
       "    <tr>\n",
       "      <th>4</th>\n",
       "      <td>5</td>\n",
       "      <td>41.955</td>\n",
       "      <td>-87.801</td>\n",
       "      <td>0</td>\n",
       "      <td>0</td>\n",
       "      <td>1</td>\n",
       "      <td>86</td>\n",
       "      <td>61</td>\n",
       "      <td>74.000</td>\n",
       "      <td>7.000</td>\n",
       "      <td>...</td>\n",
       "      <td>29.280</td>\n",
       "      <td>29.990</td>\n",
       "      <td>8.900</td>\n",
       "      <td>18</td>\n",
       "      <td>10.000</td>\n",
       "      <td>2008</td>\n",
       "      <td>6</td>\n",
       "      <td>0</td>\n",
       "      <td>0</td>\n",
       "      <td>0.000</td>\n",
       "    </tr>\n",
       "  </tbody>\n",
       "</table>\n",
       "<p>5 rows × 27 columns</p>\n",
       "</div>"
      ],
      "text/plain": [
       "   id  latitude  longitude  pipiens  restuans  territans  tmax  tmin   tavg  \\\n",
       "0   1    41.955    -87.801        1         1          0    86    61 74.000   \n",
       "1   2    41.955    -87.801        0         1          0    86    61 74.000   \n",
       "2   3    41.955    -87.801        1         0          0    86    61 74.000   \n",
       "3   4    41.955    -87.801        0         0          0    86    61 74.000   \n",
       "4   5    41.955    -87.801        0         0          1    86    61 74.000   \n",
       "\n",
       "   depart  ...  stnpressure  sealevel  resultspeed  resultdir  avgspeed  year  \\\n",
       "0   7.000  ...       29.280    29.990        8.900         18    10.000  2008   \n",
       "1   7.000  ...       29.280    29.990        8.900         18    10.000  2008   \n",
       "2   7.000  ...       29.280    29.990        8.900         18    10.000  2008   \n",
       "3   7.000  ...       29.280    29.990        8.900         18    10.000  2008   \n",
       "4   7.000  ...       29.280    29.990        8.900         18    10.000  2008   \n",
       "\n",
       "   month  nummosquitos  year_x  wnvpresent  \n",
       "0      6             0       0       0.000  \n",
       "1      6             0       0       0.000  \n",
       "2      6             0       0       0.000  \n",
       "3      6             0       0       0.000  \n",
       "4      6             0       0       0.000  \n",
       "\n",
       "[5 rows x 27 columns]"
      ]
     },
     "execution_count": 44,
     "metadata": {},
     "output_type": "execute_result"
    }
   ],
   "source": [
    "pred_df.head()"
   ]
  },
  {
   "cell_type": "code",
   "execution_count": 47,
   "metadata": {},
   "outputs": [],
   "source": [
    "# Create a dataframe with only 'Id' and 'WnvPresent' columns\n",
    "kaggle_df = pred_df[['id','wnvpresent']]\n",
    "\n",
    "kaggle_df = kaggle_df.drop_duplicates()\n",
    "\n",
    "# Save the dataframe to csv file\n",
    "kaggle_df.to_csv(\"../data/predicted_wnv.csv\",index=False)"
   ]
  },
  {
   "cell_type": "markdown",
   "metadata": {},
   "source": [
    "#### Kaggle Score\n",
    "\n",
    "Private score: 0.44127\n",
    "\n",
    "Public score: 0.44113"
   ]
  },
  {
   "cell_type": "markdown",
   "metadata": {},
   "source": [
    "---\n",
    "## 4. Conclusion\n",
    "---"
   ]
  },
  {
   "cell_type": "markdown",
   "metadata": {},
   "source": [
    "### 4a. Recommendations\n",
    "\n",
    "#### WHEN\n",
    "\n",
    "**Traps** Continue from May through Oct\n",
    "\n",
    "**Spray** When traps hit 14% WNV-positive\n",
    "\n",
    "#### WHERE\n",
    "\n",
    "1. ORD Terminal 5, O'Hare International Airport\n",
    "2. South Doty Avenue\n",
    "3. 4100 North Oak Park Avenue\n",
    "4. South Stony Island Avenue\n",
    "5. 4600 Milwaukee Avenue\n",
    "6. 8200 South Kostner Avenue\n",
    "7. 2400 East 105th Street\n",
    "8. 3600 North Pittsburgh Avenue\n",
    "9. O’Hare Court, Bensenville\n",
    "10. 7000 North Moselle Avenue\n"
   ]
  },
  {
   "cell_type": "markdown",
   "metadata": {},
   "source": []
  },
  {
   "cell_type": "markdown",
   "metadata": {},
   "source": [
    "### 4b. Recommendations"
   ]
  },
  {
   "cell_type": "markdown",
   "metadata": {},
   "source": []
  },
  {
   "cell_type": "markdown",
   "metadata": {},
   "source": [
    "---\n",
    "[Back to top](#Contents) | [Part 1](part_1.ipynb) | [Part 2](part_2.ipynb) | [Part 3](part_3.ipynb)"
   ]
  }
 ],
 "metadata": {
  "kernelspec": {
   "display_name": "Python 3",
   "language": "python",
   "name": "python3"
  },
  "language_info": {
   "codemirror_mode": {
    "name": "ipython",
    "version": 3
   },
   "file_extension": ".py",
   "mimetype": "text/x-python",
   "name": "python",
   "nbconvert_exporter": "python",
   "pygments_lexer": "ipython3",
   "version": "3.9.12"
  }
 },
 "nbformat": 4,
 "nbformat_minor": 2
}
