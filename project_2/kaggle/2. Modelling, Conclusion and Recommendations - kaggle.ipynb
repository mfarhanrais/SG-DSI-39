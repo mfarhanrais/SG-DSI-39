{
 "cells": [
  {
   "cell_type": "markdown",
   "id": "10080f26",
   "metadata": {},
   "source": [
    "# Notebook 2: Modelling, Conclusion and Recommendations"
   ]
  },
  {
   "cell_type": "code",
   "execution_count": 1,
   "id": "ec742980",
   "metadata": {},
   "outputs": [],
   "source": [
    "import pandas as pd\n",
    "import numpy as np\n",
    "import seaborn as sns\n",
    "import matplotlib.pyplot as plt\n",
    "\n",
    "from sklearn import metrics\n",
    "from sklearn.model_selection import train_test_split, cross_val_score\n",
    "from sklearn.linear_model import LinearRegression\n",
    "from sklearn.linear_model import Ridge, Lasso\n",
    "from sklearn.metrics import r2_score\n",
    "from sklearn.preprocessing import StandardScaler, PolynomialFeatures\n",
    "from sklearn.linear_model import LogisticRegression\n",
    "\n",
    "from sklearn.datasets import load_iris\n",
    "from sklearn.feature_selection import SelectKBest, f_regression\n",
    "from sklearn.feature_selection import f_classif\n",
    "from sklearn.neighbors import KNeighborsRegressor"
   ]
  },
  {
   "cell_type": "code",
   "execution_count": 2,
   "id": "c280a1cc",
   "metadata": {},
   "outputs": [
    {
     "data": {
      "text/html": [
       "<div>\n",
       "<style scoped>\n",
       "    .dataframe tbody tr th:only-of-type {\n",
       "        vertical-align: middle;\n",
       "    }\n",
       "\n",
       "    .dataframe tbody tr th {\n",
       "        vertical-align: top;\n",
       "    }\n",
       "\n",
       "    .dataframe thead th {\n",
       "        text-align: right;\n",
       "    }\n",
       "</style>\n",
       "<table border=\"1\" class=\"dataframe\">\n",
       "  <thead>\n",
       "    <tr style=\"text-align: right;\">\n",
       "      <th></th>\n",
       "      <th>id</th>\n",
       "      <th>tranc_yearmonth</th>\n",
       "      <th>town</th>\n",
       "      <th>flat_type</th>\n",
       "      <th>block</th>\n",
       "      <th>street_name</th>\n",
       "      <th>storey_range</th>\n",
       "      <th>floor_area_sqm</th>\n",
       "      <th>flat_model</th>\n",
       "      <th>lease_commence_date</th>\n",
       "      <th>...</th>\n",
       "      <th>vacancy</th>\n",
       "      <th>pri_sch_affiliation</th>\n",
       "      <th>pri_sch_latitude</th>\n",
       "      <th>pri_sch_longitude</th>\n",
       "      <th>sec_sch_nearest_dist</th>\n",
       "      <th>sec_sch_name</th>\n",
       "      <th>cutoff_point</th>\n",
       "      <th>affiliation</th>\n",
       "      <th>sec_sch_latitude</th>\n",
       "      <th>sec_sch_longitude</th>\n",
       "    </tr>\n",
       "  </thead>\n",
       "  <tbody>\n",
       "    <tr>\n",
       "      <th>0</th>\n",
       "      <td>88471</td>\n",
       "      <td>2016-05</td>\n",
       "      <td>KALLANG/WHAMPOA</td>\n",
       "      <td>4 ROOM</td>\n",
       "      <td>3B</td>\n",
       "      <td>UPP BOON KENG RD</td>\n",
       "      <td>10 TO 12</td>\n",
       "      <td>90.0</td>\n",
       "      <td>Model A</td>\n",
       "      <td>2006</td>\n",
       "      <td>...</td>\n",
       "      <td>78</td>\n",
       "      <td>1</td>\n",
       "      <td>1.317659</td>\n",
       "      <td>103.882504</td>\n",
       "      <td>1138.633422</td>\n",
       "      <td>Geylang Methodist School</td>\n",
       "      <td>224</td>\n",
       "      <td>0</td>\n",
       "      <td>1.317659</td>\n",
       "      <td>103.882504</td>\n",
       "    </tr>\n",
       "    <tr>\n",
       "      <th>1</th>\n",
       "      <td>122598</td>\n",
       "      <td>2012-07</td>\n",
       "      <td>BISHAN</td>\n",
       "      <td>5 ROOM</td>\n",
       "      <td>153</td>\n",
       "      <td>BISHAN ST 13</td>\n",
       "      <td>07 TO 09</td>\n",
       "      <td>130.0</td>\n",
       "      <td>Improved</td>\n",
       "      <td>1987</td>\n",
       "      <td>...</td>\n",
       "      <td>45</td>\n",
       "      <td>1</td>\n",
       "      <td>1.349783</td>\n",
       "      <td>103.854529</td>\n",
       "      <td>447.894399</td>\n",
       "      <td>Kuo Chuan Presbyterian Secondary School</td>\n",
       "      <td>232</td>\n",
       "      <td>0</td>\n",
       "      <td>1.350110</td>\n",
       "      <td>103.854892</td>\n",
       "    </tr>\n",
       "    <tr>\n",
       "      <th>2</th>\n",
       "      <td>170897</td>\n",
       "      <td>2013-07</td>\n",
       "      <td>BUKIT BATOK</td>\n",
       "      <td>EXECUTIVE</td>\n",
       "      <td>289B</td>\n",
       "      <td>BT BATOK ST 25</td>\n",
       "      <td>13 TO 15</td>\n",
       "      <td>144.0</td>\n",
       "      <td>Apartment</td>\n",
       "      <td>1997</td>\n",
       "      <td>...</td>\n",
       "      <td>39</td>\n",
       "      <td>0</td>\n",
       "      <td>1.345245</td>\n",
       "      <td>103.756265</td>\n",
       "      <td>180.074558</td>\n",
       "      <td>Yusof Ishak Secondary School</td>\n",
       "      <td>188</td>\n",
       "      <td>0</td>\n",
       "      <td>1.342334</td>\n",
       "      <td>103.760013</td>\n",
       "    </tr>\n",
       "    <tr>\n",
       "      <th>3</th>\n",
       "      <td>86070</td>\n",
       "      <td>2012-04</td>\n",
       "      <td>BISHAN</td>\n",
       "      <td>4 ROOM</td>\n",
       "      <td>232</td>\n",
       "      <td>BISHAN ST 22</td>\n",
       "      <td>01 TO 05</td>\n",
       "      <td>103.0</td>\n",
       "      <td>Model A</td>\n",
       "      <td>1992</td>\n",
       "      <td>...</td>\n",
       "      <td>20</td>\n",
       "      <td>1</td>\n",
       "      <td>1.354789</td>\n",
       "      <td>103.844934</td>\n",
       "      <td>389.515528</td>\n",
       "      <td>Catholic High School</td>\n",
       "      <td>253</td>\n",
       "      <td>1</td>\n",
       "      <td>1.354789</td>\n",
       "      <td>103.844934</td>\n",
       "    </tr>\n",
       "    <tr>\n",
       "      <th>4</th>\n",
       "      <td>153632</td>\n",
       "      <td>2017-12</td>\n",
       "      <td>YISHUN</td>\n",
       "      <td>4 ROOM</td>\n",
       "      <td>876</td>\n",
       "      <td>YISHUN ST 81</td>\n",
       "      <td>01 TO 03</td>\n",
       "      <td>83.0</td>\n",
       "      <td>Simplified</td>\n",
       "      <td>1987</td>\n",
       "      <td>...</td>\n",
       "      <td>74</td>\n",
       "      <td>0</td>\n",
       "      <td>1.416280</td>\n",
       "      <td>103.838798</td>\n",
       "      <td>312.025435</td>\n",
       "      <td>Orchid Park Secondary School</td>\n",
       "      <td>208</td>\n",
       "      <td>0</td>\n",
       "      <td>1.414888</td>\n",
       "      <td>103.838335</td>\n",
       "    </tr>\n",
       "  </tbody>\n",
       "</table>\n",
       "<p>5 rows × 76 columns</p>\n",
       "</div>"
      ],
      "text/plain": [
       "       id tranc_yearmonth             town  flat_type block       street_name  \\\n",
       "0   88471         2016-05  KALLANG/WHAMPOA     4 ROOM    3B  UPP BOON KENG RD   \n",
       "1  122598         2012-07           BISHAN     5 ROOM   153      BISHAN ST 13   \n",
       "2  170897         2013-07      BUKIT BATOK  EXECUTIVE  289B    BT BATOK ST 25   \n",
       "3   86070         2012-04           BISHAN     4 ROOM   232      BISHAN ST 22   \n",
       "4  153632         2017-12           YISHUN     4 ROOM   876      YISHUN ST 81   \n",
       "\n",
       "  storey_range  floor_area_sqm  flat_model  lease_commence_date  ...  vacancy  \\\n",
       "0     10 TO 12            90.0     Model A                 2006  ...       78   \n",
       "1     07 TO 09           130.0    Improved                 1987  ...       45   \n",
       "2     13 TO 15           144.0   Apartment                 1997  ...       39   \n",
       "3     01 TO 05           103.0     Model A                 1992  ...       20   \n",
       "4     01 TO 03            83.0  Simplified                 1987  ...       74   \n",
       "\n",
       "   pri_sch_affiliation  pri_sch_latitude  pri_sch_longitude  \\\n",
       "0                    1          1.317659         103.882504   \n",
       "1                    1          1.349783         103.854529   \n",
       "2                    0          1.345245         103.756265   \n",
       "3                    1          1.354789         103.844934   \n",
       "4                    0          1.416280         103.838798   \n",
       "\n",
       "   sec_sch_nearest_dist                             sec_sch_name  \\\n",
       "0           1138.633422                 Geylang Methodist School   \n",
       "1            447.894399  Kuo Chuan Presbyterian Secondary School   \n",
       "2            180.074558             Yusof Ishak Secondary School   \n",
       "3            389.515528                     Catholic High School   \n",
       "4            312.025435             Orchid Park Secondary School   \n",
       "\n",
       "   cutoff_point affiliation sec_sch_latitude  sec_sch_longitude  \n",
       "0           224           0         1.317659         103.882504  \n",
       "1           232           0         1.350110         103.854892  \n",
       "2           188           0         1.342334         103.760013  \n",
       "3           253           1         1.354789         103.844934  \n",
       "4           208           0         1.414888         103.838335  \n",
       "\n",
       "[5 rows x 76 columns]"
      ]
     },
     "execution_count": 2,
     "metadata": {},
     "output_type": "execute_result"
    }
   ],
   "source": [
    "clean = pd.read_csv(\"/Users/eugenia/Desktop/DSI-SG-39/project_2/cleaned_train_data.csv\", low_memory=False)\n",
    "clean.head()"
   ]
  },
  {
   "cell_type": "markdown",
   "id": "a2b548c0",
   "metadata": {},
   "source": [
    "## 5. Pre-processing"
   ]
  },
  {
   "cell_type": "markdown",
   "id": "93b20517",
   "metadata": {},
   "source": [
    "### a. Assemble our predictor variables (X) and our target (y)¶"
   ]
  },
  {
   "cell_type": "markdown",
   "id": "65cf3bcd",
   "metadata": {},
   "source": [
    "# !!!!!!!!!!THE ROW BELOW IS A NEW CODE !!!!!!!!!!!!!!!!!!"
   ]
  },
  {
   "cell_type": "code",
   "execution_count": 3,
   "id": "3cdfbf00",
   "metadata": {},
   "outputs": [],
   "source": [
    "# Create town_proxy var\n",
    "\n",
    "# Coordinates of the Singapore River, a reference point for the central of Singapore\n",
    "town_lat = 1.290160\n",
    "town_long = 103.852000\n",
    "\n",
    "# Create a new column for town_proxy\n",
    "clean['town_proxy'] = ((clean['latitude'] - town_lat) ** 2) + ((clean['longitude'] - town_long) ** 2)"
   ]
  },
  {
   "cell_type": "markdown",
   "id": "7d9a6fb7",
   "metadata": {},
   "source": [
    "# !!!!!!!!!!PLEASE ADDD ID INTO X VAR !!!!!!!!!!!!!!!!!!"
   ]
  },
  {
   "cell_type": "code",
   "execution_count": 4,
   "id": "400da006",
   "metadata": {},
   "outputs": [],
   "source": [
    "# Create a dataframe, X, containing all the features selected\n",
    "\n",
    "X = clean[['id','floor_area_sqm',\n",
    "        'tranc_year',\n",
    "        'mid_storey',\n",
    "        'hdb_age',\n",
    "        'max_floor_lvl',\n",
    "        'year_completed',\n",
    "        'total_dwelling_units',\n",
    "        '4room_sold',\n",
    "        '5room_sold',\n",
    "        'exec_sold',\n",
    "        'latitude',\n",
    "        'longitude',\n",
    "        'mall_nearest_distance',\n",
    "        'mall_within_2km',\n",
    "        'hawker_within_2km',\n",
    "        'hawker_nearest_distance',\n",
    "        'hawker_food_stalls',\n",
    "        'hawker_market_stalls',\n",
    "        'mrt_nearest_distance',\n",
    "        'bus_stop_nearest_distance',\n",
    "        'pri_sch_nearest_distance',\n",
    "        'vacancy',\n",
    "        'sec_sch_nearest_dist',\n",
    "        'cutoff_point',\n",
    "        'town_proxy']]"
   ]
  },
  {
   "cell_type": "code",
   "execution_count": 5,
   "id": "3d9bab69",
   "metadata": {},
   "outputs": [],
   "source": [
    "y = clean['resale_price']"
   ]
  },
  {
   "cell_type": "markdown",
   "id": "3d8927df",
   "metadata": {},
   "source": [
    "### b. Train-test-split"
   ]
  },
  {
   "cell_type": "code",
   "execution_count": 6,
   "id": "410b109c",
   "metadata": {},
   "outputs": [],
   "source": [
    "# Train/test split data.\n",
    "X_train, X_test, y_train, y_test = train_test_split(X, y, random_state=42)"
   ]
  },
  {
   "cell_type": "markdown",
   "id": "e2d9a0be",
   "metadata": {},
   "source": [
    "## 6. Modelling"
   ]
  },
  {
   "cell_type": "markdown",
   "id": "ba4f6f90",
   "metadata": {},
   "source": [
    "### a. Cross-validation"
   ]
  },
  {
   "cell_type": "code",
   "execution_count": 7,
   "id": "52c84e60",
   "metadata": {},
   "outputs": [
    {
     "data": {
      "text/plain": [
       "LinearRegression()"
      ]
     },
     "execution_count": 7,
     "metadata": {},
     "output_type": "execute_result"
    }
   ],
   "source": [
    "# Linear regression model\n",
    "lr = LinearRegression()\n",
    "lr.fit(X_train, y_train)"
   ]
  },
  {
   "cell_type": "code",
   "execution_count": 8,
   "id": "ce9a22f3",
   "metadata": {},
   "outputs": [
    {
     "name": "stdout",
     "output_type": "stream",
     "text": [
      "0.8336578011573608\n",
      "0.832252940128641\n"
     ]
    }
   ],
   "source": [
    "print(lr.score(X_train, y_train))\n",
    "print(lr.score(X_test, y_test))"
   ]
  },
  {
   "cell_type": "code",
   "execution_count": 9,
   "id": "d80a7555",
   "metadata": {},
   "outputs": [
    {
     "data": {
      "text/plain": [
       "0.8320191182566898"
      ]
     },
     "execution_count": 9,
     "metadata": {},
     "output_type": "execute_result"
    }
   ],
   "source": [
    "cross_val_score(lr,X_test,y_test).mean()"
   ]
  },
  {
   "cell_type": "code",
   "execution_count": 10,
   "id": "197a0151",
   "metadata": {},
   "outputs": [
    {
     "name": "stdout",
     "output_type": "stream",
     "text": [
      "Cross-validation scores: [0.82991912 0.83419811 0.83440242 0.83692832 0.83238096]\n",
      "Baseline train score (mean): 0.8335657884083826\n",
      "Baseline test score (mean): 0.8320191182566898\n"
     ]
    }
   ],
   "source": [
    "print(\"Cross-validation scores: {}\".format(cross_val_score(lr, X_train, y_train, cv=5)))\n",
    "print(\"Baseline train score (mean): {}\".format((cross_val_score(lr, X_train, y_train, cv=5)).mean()))\n",
    "print(\"Baseline test score (mean): {}\".format((cross_val_score(lr, X_test, y_test, cv=5)).mean()))"
   ]
  },
  {
   "cell_type": "markdown",
   "id": "3bdab396",
   "metadata": {},
   "source": [
    "### b. Linear Regression (LR)"
   ]
  },
  {
   "cell_type": "code",
   "execution_count": null,
   "id": "fcf73941",
   "metadata": {},
   "outputs": [],
   "source": [
    "lr_train_pred = lr.predict(X_train)\n",
    "lr_test_pred = lr.predict(X_test)"
   ]
  },
  {
   "cell_type": "code",
   "execution_count": null,
   "id": "ce90ea1a",
   "metadata": {},
   "outputs": [],
   "source": [
    "print(\"LR train score: {}\".format(lr.score(X_train, y_train)))\n",
    "print(\"LR test score: {}\".format(lr.score(X_test, y_test)))\n",
    "print(\"LR train RMSE: {}\".format(metrics.mean_squared_error(lr_train_pred, y_train, squared=False)))\n",
    "print(\"LR test RMSE: {}\".format(metrics.mean_squared_error(lr_test_pred, y_test, squared=False)))"
   ]
  },
  {
   "cell_type": "code",
   "execution_count": null,
   "id": "78924f1d",
   "metadata": {},
   "outputs": [],
   "source": [
    "# Check coefficients\n",
    "lr.coef_"
   ]
  },
  {
   "cell_type": "code",
   "execution_count": null,
   "id": "2c350946",
   "metadata": {},
   "outputs": [],
   "source": [
    "# Scatter plot showing the relationship between observed and predicted values.\n",
    "plt.figure(figsize = (7, 7))\n",
    "\n",
    "sns.scatterplot(x=y_test, y=lr_test_pred,alpha=0.5)\n",
    "sns.set_theme()\n",
    "\n",
    "# Line showing perfect predictions\n",
    "plt.plot([11.5, max(max(y_test),max(lr_test_pred))],\n",
    "         [12, max(max(y_test),max(lr_test_pred))],\n",
    "         linestyle = '-',color='red')\n",
    "\n",
    "plt.title('Linear Regression', fontsize = 15)\n",
    "plt.xlabel('True Values', fontsize = 10)\n",
    "plt.ylabel('Predicted Values', fontsize = 10);"
   ]
  },
  {
   "cell_type": "markdown",
   "id": "de59b8ce",
   "metadata": {},
   "source": [
    "## Kaggle"
   ]
  },
  {
   "cell_type": "code",
   "execution_count": 11,
   "id": "f7d0e339",
   "metadata": {},
   "outputs": [],
   "source": [
    "# Load test data\n",
    "test = pd.read_csv('/Users/eugenia/Desktop/DSI-SG-39/project_2/datasets/test.csv', low_memory=False)"
   ]
  },
  {
   "cell_type": "code",
   "execution_count": 12,
   "id": "2665c9cd",
   "metadata": {},
   "outputs": [],
   "source": [
    "# Prepare data\n",
    "test.columns = test.columns.str.lower()\n",
    "\n",
    "# Clean data\n",
    "# Replace nulls for mall and hawker within 500m, 1km, and 2km with 0 using np.replace\n",
    "test[['mall_within_500m', 'mall_within_1km', 'mall_within_2km', 'hawker_within_500m', 'hawker_within_1km', \n",
    "       'hawker_within_2km']] = test[['mall_within_500m', 'mall_within_1km', 'mall_within_2km', 'hawker_within_500m', \n",
    "                                    'hawker_within_1km', 'hawker_within_2km']].replace(np.nan, 0)\n",
    "\n",
    "# Applying mean imputation as we assume missing values are MCAR (missing completely at random)\n",
    "test['mall_nearest_distance'] = test['mall_nearest_distance'].replace('na', np.nan)\n",
    "mean_dist = np.mean(clean['mall_nearest_distance'])\n",
    "test['mall_nearest_distance'] = test['mall_nearest_distance'].fillna(mean_dist)"
   ]
  },
  {
   "cell_type": "code",
   "execution_count": 13,
   "id": "429aa5fe",
   "metadata": {},
   "outputs": [],
   "source": [
    "# Create interaction var\n",
    "town_lat = 1.290160\n",
    "town_long = 103.852000\n",
    "\n",
    "# Create a new column for town_proxy\n",
    "test['town_proxy'] = ((test['latitude'] - town_lat) ** 2) + ((test['longitude'] - town_long) ** 2)\n",
    "\n",
    "test['town_proxy'] = test['town_proxy'].astype(int)"
   ]
  },
  {
   "cell_type": "code",
   "execution_count": 14,
   "id": "0cef3426",
   "metadata": {},
   "outputs": [],
   "source": [
    "# Load test data into model\n",
    "X_ktest = test[['id','floor_area_sqm',\n",
    "        'tranc_year',\n",
    "        'mid_storey',\n",
    "        'hdb_age',\n",
    "        'max_floor_lvl',\n",
    "        'year_completed',\n",
    "        'total_dwelling_units',\n",
    "        '4room_sold',\n",
    "        '5room_sold',\n",
    "        'exec_sold',\n",
    "        'latitude',\n",
    "        'longitude',\n",
    "        'mall_nearest_distance',\n",
    "        'mall_within_2km',\n",
    "        'hawker_within_2km',\n",
    "        'hawker_nearest_distance',\n",
    "        'hawker_food_stalls',\n",
    "        'hawker_market_stalls',\n",
    "        'mrt_nearest_distance',\n",
    "        'bus_stop_nearest_distance',\n",
    "        'pri_sch_nearest_distance',\n",
    "        'vacancy',\n",
    "        'sec_sch_nearest_dist',\n",
    "        'cutoff_point',\n",
    "        'town_proxy']]"
   ]
  },
  {
   "cell_type": "code",
   "execution_count": 15,
   "id": "c4d9fd40",
   "metadata": {},
   "outputs": [],
   "source": [
    "# Make predictions\n",
    "y_pred = lr.predict(X_ktest)"
   ]
  },
  {
   "cell_type": "code",
   "execution_count": 17,
   "id": "fca12766",
   "metadata": {},
   "outputs": [],
   "source": [
    "submission_df = pd.DataFrame({'Id': test['id'], 'Predicted': y_pred})\n",
    "\n",
    "submission_df.to_csv('kaggle_39sir.csv',index=False)"
   ]
  }
 ],
 "metadata": {
  "kernelspec": {
   "display_name": "Python 3 (ipykernel)",
   "language": "python",
   "name": "python3"
  },
  "language_info": {
   "codemirror_mode": {
    "name": "ipython",
    "version": 3
   },
   "file_extension": ".py",
   "mimetype": "text/x-python",
   "name": "python",
   "nbconvert_exporter": "python",
   "pygments_lexer": "ipython3",
   "version": "3.9.12"
  }
 },
 "nbformat": 4,
 "nbformat_minor": 5
}
