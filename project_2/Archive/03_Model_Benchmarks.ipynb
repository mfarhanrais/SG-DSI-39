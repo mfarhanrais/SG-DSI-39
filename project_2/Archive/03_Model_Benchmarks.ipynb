{
 "cells": [
  {
   "cell_type": "markdown",
   "id": "0c085f0a",
   "metadata": {},
   "source": [
    "## 03_Model_Benchmarks"
   ]
  },
  {
   "cell_type": "code",
   "execution_count": null,
   "id": "6ced7c3c",
   "metadata": {},
   "outputs": [],
   "source": [
    "# Import libraries\n",
    "\n",
    "import pandas as pd\n",
    "import numpy as np\n",
    "import seaborn as sns\n",
    "import matplotlib.pyplot as plt\n",
    "from sklearn import datasets\n",
    "from sklearn.model_selection import train_test_split\n",
    "from sklearn.linear_model import LinearRegression\n",
    "from sklearn.linear_model import Ridge, Lasso\n",
    "from sklearn.metrics import r2_score\n",
    "\n",
    "import warnings\n",
    "warnings.filterwarnings('ignore')"
   ]
  },
  {
   "cell_type": "code",
   "execution_count": null,
   "id": "d7d20a17",
   "metadata": {},
   "outputs": [],
   "source": [
    "# Load data\n",
    "\n",
    "df_02 = pd.read_csv(\"../data/df_02.csv\")\n",
    "df_02.info()\n",
    "df_02.head()"
   ]
  },
  {
   "cell_type": "code",
   "execution_count": null,
   "id": "ed7e7644",
   "metadata": {},
   "outputs": [],
   "source": [
    "# Assemble predictor variables (X) and target (y)\n",
    "\n",
    "# Set the y-value\n",
    "xvars = [\n",
    "    \"season\", \"holiday\", \"workingday\",\n",
    "    \"weather\", \"temp\", \"humidity\",\n",
    "    \"windspeed\", \"hour\"\n",
    "]\n",
    "X = bike[xvars]\n",
    "\n",
    "# Dummify \"season\"\n",
    "X = pd.get_dummies(columns=[\"season\"], drop_first=True, data=X)\n",
    "\n",
    "# Set the y-value\n",
    "y = bike['riders']"
   ]
  },
  {
   "cell_type": "code",
   "execution_count": null,
   "id": "bf5c34d3",
   "metadata": {},
   "outputs": [],
   "source": [
    "# Instantiate the model\n",
    "lr = LinearRegression()"
   ]
  },
  {
   "cell_type": "code",
   "execution_count": null,
   "id": "ef4e6c7c",
   "metadata": {},
   "outputs": [],
   "source": [
    "# Fit model\n",
    "lr.fit(X, y)"
   ]
  },
  {
   "cell_type": "code",
   "execution_count": null,
   "id": "7c6a5362",
   "metadata": {},
   "outputs": [],
   "source": [
    "# Coefficients\n",
    "lr.coef_\n",
    "\n",
    "set(zip(X.columns, model.coef_))"
   ]
  },
  {
   "cell_type": "code",
   "execution_count": null,
   "id": "6385b4c4",
   "metadata": {},
   "outputs": [],
   "source": [
    "# y intercept\n",
    "lr.intercept_"
   ]
  },
  {
   "cell_type": "code",
   "execution_count": null,
   "id": "38af5dec",
   "metadata": {},
   "outputs": [],
   "source": [
    "# Make predictions\n",
    "y_preds = model.predict(X)\n",
    "y_preds"
   ]
  },
  {
   "cell_type": "code",
   "execution_count": null,
   "id": "5c0f8800",
   "metadata": {},
   "outputs": [],
   "source": [
    "# R2:\n",
    "metrics.r2_score(y, y_preds)"
   ]
  },
  {
   "cell_type": "code",
   "execution_count": null,
   "id": "17787e36",
   "metadata": {},
   "outputs": [],
   "source": [
    "# r-squared score\n",
    "lr.score(X, y)"
   ]
  },
  {
   "cell_type": "code",
   "execution_count": null,
   "id": "555095ce",
   "metadata": {},
   "outputs": [],
   "source": [
    "# MSE:\n",
    "metrics.mean_squared_error(y, y_preds)"
   ]
  },
  {
   "cell_type": "code",
   "execution_count": null,
   "id": "4e5a99cc",
   "metadata": {},
   "outputs": [],
   "source": []
  },
  {
   "cell_type": "code",
   "execution_count": null,
   "id": "9ee75bb3",
   "metadata": {},
   "outputs": [],
   "source": []
  },
  {
   "cell_type": "code",
   "execution_count": null,
   "id": "ee7b1358",
   "metadata": {},
   "outputs": [],
   "source": []
  },
  {
   "cell_type": "code",
   "execution_count": null,
   "id": "cfe865cb",
   "metadata": {},
   "outputs": [],
   "source": []
  },
  {
   "cell_type": "code",
   "execution_count": null,
   "id": "2403e621",
   "metadata": {},
   "outputs": [],
   "source": []
  },
  {
   "cell_type": "code",
   "execution_count": null,
   "id": "e916fd00",
   "metadata": {},
   "outputs": [],
   "source": []
  }
 ],
 "metadata": {
  "kernelspec": {
   "display_name": "Python 3 (ipykernel)",
   "language": "python",
   "name": "python3"
  },
  "language_info": {
   "codemirror_mode": {
    "name": "ipython",
    "version": 3
   },
   "file_extension": ".py",
   "mimetype": "text/x-python",
   "name": "python",
   "nbconvert_exporter": "python",
   "pygments_lexer": "ipython3",
   "version": "3.9.12"
  }
 },
 "nbformat": 4,
 "nbformat_minor": 5
}
